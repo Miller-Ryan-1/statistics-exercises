{
 "cells": [
  {
   "cell_type": "code",
   "execution_count": 1,
   "id": "18a5bf65",
   "metadata": {},
   "outputs": [],
   "source": [
    "import matplotlib.pyplot as plt\n",
    "import numpy as np\n",
    "import pandas as pd\n",
    "from scipy import stats"
   ]
  },
  {
   "cell_type": "markdown",
   "id": "ea293757",
   "metadata": {},
   "source": [
    "### 1. A bank found that the average number of cars waiting during the noon hour at a drive-up window follows a Poisson distribution with a mean of 2 cars. Make a chart of this distribution and answer these questions concerning the probability of cars waiting at the drive-up window."
   ]
  },
  {
   "cell_type": "code",
   "execution_count": 3,
   "id": "ca32816e",
   "metadata": {},
   "outputs": [
    {
     "data": {
      "image/png": "[encoded data removed]",
      "text/plain": [
       "<Figure size 432x288 with 1 Axes>"
      ]
     },
     "metadata": {
      "needs_background": "light"
     },
     "output_type": "display_data"
    }
   ],
   "source": [
    "λ = 2\n",
    "\n",
    "bank_cars = stats.poisson(λ)\n",
    "\n",
    "x = np.arange(0,10)\n",
    "y = bank_cars.pmf(x)\n",
    "\n",
    "plt.bar(x,y)\n",
    "plt.xlabel('Avg number of cars waiting during noon hours')\n",
    "plt.ylabel('P(X)')\n",
    "plt.title('Poisson distribution $λ = 2$');"
   ]
  },
  {
   "cell_type": "markdown",
   "id": "e85163da",
   "metadata": {},
   "source": [
    "#### (1a) What is the probability that no cars drive up in the noon hour?"
   ]
  },
  {
   "cell_type": "code",
   "execution_count": 7,
   "id": "bc09e196",
   "metadata": {},
   "outputs": [
    {
     "data": {
      "text/plain": [
       "0.1353352832366127"
      ]
     },
     "execution_count": 7,
     "metadata": {},
     "output_type": "execute_result"
    }
   ],
   "source": [
    "p_0_cars = bank_cars.pmf(0)\n",
    "p_0_cars"
   ]
  },
  {
   "cell_type": "markdown",
   "id": "64b9986a",
   "metadata": {},
   "source": [
    "ANS: 13.5%"
   ]
  },
  {
   "cell_type": "code",
   "execution_count": 97,
   "id": "01802a36",
   "metadata": {},
   "outputs": [
    {
     "data": {
      "text/plain": [
       "0.1323"
      ]
     },
     "execution_count": 97,
     "metadata": {},
     "output_type": "execute_result"
    }
   ],
   "source": [
    "rate = 1/30 #average cars per minute\n",
    "minute_odds = np.random.random((10000, 60))\n",
    "cars_per_hour = (minute_odds < rate).sum(axis = 1)\n",
    "(cars_per_hour == 0).sum()/10000"
   ]
  },
  {
   "cell_type": "markdown",
   "id": "4db63f77",
   "metadata": {},
   "source": [
    "#### (1b) What is the probability that 3 or more cars come through the drive through?"
   ]
  },
  {
   "cell_type": "code",
   "execution_count": 6,
   "id": "e9a3f7c6",
   "metadata": {},
   "outputs": [
    {
     "data": {
      "text/plain": [
       "0.32332358381693654"
      ]
     },
     "execution_count": 6,
     "metadata": {},
     "output_type": "execute_result"
    }
   ],
   "source": [
    "p_three_plus = bank_cars.sf(2)\n",
    "p_three_plus"
   ]
  },
  {
   "cell_type": "markdown",
   "id": "63c1af9a",
   "metadata": {},
   "source": [
    "ANS: 32.3%"
   ]
  },
  {
   "cell_type": "code",
   "execution_count": 99,
   "id": "29706f95",
   "metadata": {},
   "outputs": [
    {
     "data": {
      "text/plain": [
       "0.3176"
      ]
     },
     "execution_count": 99,
     "metadata": {},
     "output_type": "execute_result"
    }
   ],
   "source": [
    "rate = 1/30 #average cars per minute\n",
    "minute_odds = np.random.random((10000, 60))\n",
    "cars_per_hour = (minute_odds < rate).sum(axis = 1)\n",
    "(cars_per_hour >= 3).sum()/10000"
   ]
  },
  {
   "cell_type": "markdown",
   "id": "e52c63b1",
   "metadata": {},
   "source": [
    "#### (1c) How likely is it that the drive through gets at least 1 car?"
   ]
  },
  {
   "cell_type": "code",
   "execution_count": 9,
   "id": "d17cc527",
   "metadata": {},
   "outputs": [
    {
     "data": {
      "text/plain": [
       "0.8646647167633873"
      ]
     },
     "execution_count": 9,
     "metadata": {},
     "output_type": "execute_result"
    }
   ],
   "source": [
    "p_min_one = 1 - p_0_cars\n",
    "p_min_one"
   ]
  },
  {
   "cell_type": "markdown",
   "id": "db783f81",
   "metadata": {},
   "source": [
    "ANS: 86.5%"
   ]
  },
  {
   "cell_type": "code",
   "execution_count": 100,
   "id": "a8567347",
   "metadata": {},
   "outputs": [
    {
     "data": {
      "text/plain": [
       "0.8667"
      ]
     },
     "execution_count": 100,
     "metadata": {},
     "output_type": "execute_result"
    }
   ],
   "source": [
    "rate = 1/30 #average cars per minute\n",
    "minute_odds = np.random.random((10000, 60))\n",
    "cars_per_hour = (minute_odds < rate).sum(axis = 1)\n",
    "(cars_per_hour > 0).sum()/10000"
   ]
  },
  {
   "cell_type": "markdown",
   "id": "86df9a52",
   "metadata": {},
   "source": [
    "### 2. Grades of State University graduates are normally distributed with a mean of 3.0 and a standard deviation of .3. Calculate the following:"
   ]
  },
  {
   "cell_type": "code",
   "execution_count": 14,
   "id": "109c0846",
   "metadata": {},
   "outputs": [],
   "source": [
    "mean = 3.0\n",
    "stddev = 0.3\n",
    "\n",
    "grades = stats.norm(mean, stddev)"
   ]
  },
  {
   "cell_type": "markdown",
   "id": "72b0cf83",
   "metadata": {},
   "source": [
    "#### (2a) What grade point average is required to be in the top 5% of the graduating class?"
   ]
  },
  {
   "cell_type": "code",
   "execution_count": 27,
   "id": "38b3c646",
   "metadata": {},
   "outputs": [
    {
     "data": {
      "text/plain": [
       "3.4934560880854417"
      ]
     },
     "execution_count": 27,
     "metadata": {},
     "output_type": "execute_result"
    }
   ],
   "source": [
    "# Continuous, have the probability and want the value above: use .isf\n",
    "grades.isf(.05)"
   ]
  },
  {
   "cell_type": "markdown",
   "id": "b2bc8d35",
   "metadata": {},
   "source": [
    "ANS: 3.5 GPA"
   ]
  },
  {
   "cell_type": "code",
   "execution_count": 102,
   "id": "ff28399e",
   "metadata": {},
   "outputs": [
    {
     "data": {
      "text/plain": [
       "array([3.52619889, 3.52932197, 2.76534392, ..., 3.09845003, 2.98418991,\n",
       "       3.54307314])"
      ]
     },
     "execution_count": 102,
     "metadata": {},
     "output_type": "execute_result"
    }
   ],
   "source": [
    "gparray = np.random.normal(3, 0.3, 10000)\n",
    "gparray"
   ]
  },
  {
   "cell_type": "code",
   "execution_count": 106,
   "id": "23a6b960",
   "metadata": {},
   "outputs": [
    {
     "data": {
      "text/plain": [
       "3.489722818418305"
      ]
     },
     "execution_count": 106,
     "metadata": {},
     "output_type": "execute_result"
    }
   ],
   "source": [
    "gparray.sort()\n",
    "np.quantile(gparray,.95)"
   ]
  },
  {
   "cell_type": "markdown",
   "id": "2439f408",
   "metadata": {},
   "source": [
    "#### (2b) What GPA constitutes the bottom 15% of the class?\n"
   ]
  },
  {
   "cell_type": "code",
   "execution_count": 31,
   "id": "5590d4ca",
   "metadata": {},
   "outputs": [
    {
     "data": {
      "text/plain": [
       "2.689069983151863"
      ]
     },
     "execution_count": 31,
     "metadata": {},
     "output_type": "execute_result"
    }
   ],
   "source": [
    "# Continuous, have the probability and want the value at: use .pdf\n",
    "grades.ppf(.15)"
   ]
  },
  {
   "cell_type": "markdown",
   "id": "2119f5c5",
   "metadata": {},
   "source": [
    "ANS: 2.69 GPA"
   ]
  },
  {
   "cell_type": "code",
   "execution_count": 108,
   "id": "389b8373",
   "metadata": {},
   "outputs": [
    {
     "data": {
      "text/plain": [
       "2.686833099135885"
      ]
     },
     "execution_count": 108,
     "metadata": {},
     "output_type": "execute_result"
    }
   ],
   "source": [
    "np.quantile(np.random.normal(3, 0.3, 10000),.15)"
   ]
  },
  {
   "cell_type": "markdown",
   "id": "db2f26c0",
   "metadata": {},
   "source": [
    "#### (2c) An eccentric alumnus left scholarship money for students in the third decile from the bottom of their class. Determine the range of the third decile. Would a student with a 2.8 grade point average qualify for this scholarship?"
   ]
  },
  {
   "cell_type": "code",
   "execution_count": 35,
   "id": "76528eb1",
   "metadata": {},
   "outputs": [
    {
     "data": {
      "text/plain": [
       "(True, [2.7475136299281258, 2.842679846187588])"
      ]
     },
     "execution_count": 35,
     "metadata": {},
     "output_type": "execute_result"
    }
   ],
   "source": [
    "scholarship_min = grades.ppf(.2)\n",
    "scholarship_max = grades.ppf(.3)\n",
    "scholarship_range = [scholarship_min, scholarship_max]\n",
    "2.8 < scholarship_range[1] and 2.8> scholarship_range[0], scholarship_range"
   ]
  },
  {
   "cell_type": "markdown",
   "id": "7f7c42e6",
   "metadata": {},
   "source": [
    "ANS: Range between 2.75 GPA and 2.84 GPA, 2.8 would qualify."
   ]
  },
  {
   "cell_type": "markdown",
   "id": "3b1bd45f",
   "metadata": {},
   "source": [
    "#### (2d) If I have a GPA of 3.5, what percentile am I in?"
   ]
  },
  {
   "cell_type": "code",
   "execution_count": 38,
   "id": "d88503aa",
   "metadata": {},
   "outputs": [
    {
     "data": {
      "text/plain": [
       "0.9522096477271853"
      ]
     },
     "execution_count": 38,
     "metadata": {},
     "output_type": "execute_result"
    }
   ],
   "source": [
    "# continuous, have value need percentile, percentile amount below value, use .cdf\n",
    "grades.cdf(3.5)"
   ]
  },
  {
   "cell_type": "markdown",
   "id": "f28a9eb0",
   "metadata": {},
   "source": [
    "ANS: 95th percentile"
   ]
  },
  {
   "cell_type": "markdown",
   "id": "9b6cbb49",
   "metadata": {},
   "source": [
    "### 3. A marketing website has an average click-through rate of 2%. One day they observe 4326 visitors and 97 click-throughs. How likely is it that this many people or more click through?"
   ]
  },
  {
   "cell_type": "code",
   "execution_count": 40,
   "id": "e20f1581",
   "metadata": {},
   "outputs": [
    {
     "data": {
      "text/plain": [
       "0.13975823631416445"
      ]
     },
     "execution_count": 40,
     "metadata": {},
     "output_type": "execute_result"
    }
   ],
   "source": [
    "click_rate = 0.02\n",
    "\n",
    "stats.binom(4326, click_rate).sf(96)"
   ]
  },
  {
   "cell_type": "markdown",
   "id": "e3eaf78a",
   "metadata": {},
   "source": [
    "ANS: 14.0%"
   ]
  },
  {
   "cell_type": "code",
   "execution_count": 87,
   "id": "52f5bf72",
   "metadata": {},
   "outputs": [
    {
     "data": {
      "text/plain": [
       "0.14211867659283192"
      ]
     },
     "execution_count": 87,
     "metadata": {},
     "output_type": "execute_result"
    }
   ],
   "source": [
    "#alternate - high n & small p can use poisson approx\n",
    "lmbda = 4326 * .02\n",
    "\n",
    "stats.poisson(lmbda).sf(96)"
   ]
  },
  {
   "cell_type": "markdown",
   "id": "548749cc",
   "metadata": {},
   "source": [
    "### 4. You are working on some statistics homework consisting of 100 questions where all of the answers are a probability rounded to the hundreths place. Looking to save time, you put down random probabilities as the answer to each question.  What is the probability that at least one of your first 60 answers is correct?"
   ]
  },
  {
   "cell_type": "code",
   "execution_count": 46,
   "id": "fa32fec2",
   "metadata": {},
   "outputs": [
    {
     "data": {
      "text/plain": [
       "0.45284335760923855"
      ]
     },
     "execution_count": 46,
     "metadata": {},
     "output_type": "execute_result"
    }
   ],
   "source": [
    "guess_right = 0.01\n",
    "\n",
    "stats.binom(60, guess_right).sf(0)"
   ]
  },
  {
   "cell_type": "markdown",
   "id": "9854bb58",
   "metadata": {},
   "source": [
    "ANS: 45.3%"
   ]
  },
  {
   "cell_type": "markdown",
   "id": "337dd372",
   "metadata": {},
   "source": [
    "### 5. The codeup staff tends to get upset when the student break area is not cleaned up. Suppose that there's a 3% chance that any one student cleans the break area when they visit it, and, on any given day, about 90% of the 3 active cohorts of 22 students visit the break area. How likely is it that the break area gets cleaned up each day? How likely is it that it goes two days without getting cleaned up? All week?"
   ]
  },
  {
   "cell_type": "code",
   "execution_count": 142,
   "id": "1eb8dc50",
   "metadata": {},
   "outputs": [
    {
     "data": {
      "text/plain": [
       "0.8362274861228873"
      ]
     },
     "execution_count": 142,
     "metadata": {},
     "output_type": "execute_result"
    }
   ],
   "source": [
    "student_cleans = 0.03\n",
    "visitor_rate = 0.9\n",
    "active_cohorts = 3\n",
    "studs_per_cohort = 22\n",
    "\n",
    "break_studs = visitor_rate * active_cohorts * studs_per_cohort\n",
    "\n",
    "gets_cleaned = stats.binom(break_studs, student_cleans)\n",
    "\n",
    "gets_cleaned.sf(0)"
   ]
  },
  {
   "cell_type": "code",
   "execution_count": 145,
   "id": "9fb9764d",
   "metadata": {},
   "outputs": [
    {
     "data": {
      "text/plain": [
       "0.026821436301628983"
      ]
     },
     "execution_count": 145,
     "metadata": {},
     "output_type": "execute_result"
    }
   ],
   "source": [
    "gets_cleaned2 = stats.binom(2*break_studs, student_cleans)\n",
    "\n",
    "1 - gets_cleaned2.sf(0)\n",
    "gets_cleaned2.pmf(0)"
   ]
  },
  {
   "cell_type": "code",
   "execution_count": 146,
   "id": "37198bae",
   "metadata": {},
   "outputs": [
    {
     "data": {
      "text/plain": [
       "0.00011781621791055051"
      ]
     },
     "execution_count": 146,
     "metadata": {},
     "output_type": "execute_result"
    }
   ],
   "source": [
    "gets_cleaned5 = stats.binom(5*break_studs, student_cleans)\n",
    "\n",
    "gets_cleaned5.pmf(0)"
   ]
  },
  {
   "cell_type": "markdown",
   "id": "ef6e6e6d",
   "metadata": {},
   "source": [
    "ANS: 46.5% it gets cleaned up any one day; 26.4% it DOES NOT get cleaned up two days in a row and 0.9% chance it goes an entire week (5 class days) without a cleaning."
   ]
  },
  {
   "cell_type": "markdown",
   "id": "c896300c",
   "metadata": {},
   "source": [
    "### 6. You want to get lunch at La Panaderia, but notice that the line is usually very long at lunchtime. After several weeks of careful observation, you notice that the average number of people in line when your lunch break starts is normally distributed with a mean of 15 and standard deviation of 3. If it takes 2 minutes for each person to order, and 10 minutes from ordering to getting your food, what is the likelihood that you have at least 15 minutes left to eat your food before you have to go back to class? Assume you have one hour for lunch, and ignore travel time to and from La Panaderia."
   ]
  },
  {
   "cell_type": "code",
   "execution_count": 52,
   "id": "df366ce1",
   "metadata": {},
   "outputs": [
    {
     "data": {
      "text/plain": [
       "0.6305586598182363"
      ]
     },
     "execution_count": 52,
     "metadata": {},
     "output_type": "execute_result"
    }
   ],
   "source": [
    "mean_6 = 15\n",
    "stddev_6 = 3\n",
    "\n",
    "# 15 mins to eat = 60 mins total - 10 min wait - 2 min order - (2 * customers), max customers = 16\n",
    "max_customers = 16\n",
    "\n",
    "#Use Normal and find probability of 16 customers and below:\n",
    "stats.norm(15,3).cdf(16)"
   ]
  },
  {
   "cell_type": "markdown",
   "id": "f6f85705",
   "metadata": {},
   "source": [
    "ANS: 63%"
   ]
  },
  {
   "cell_type": "markdown",
   "id": "702be404",
   "metadata": {},
   "source": [
    "### 7. Connect to the employees database and find the average salary of current employees, along with the standard deviation. For the following questions, calculate the answer based on modeling the employees salaries with a normal distribution defined by the calculated mean and standard deviation then compare this answer to the actual values present in the salaries dataset."
   ]
  },
  {
   "cell_type": "code",
   "execution_count": 75,
   "id": "cc069dee",
   "metadata": {},
   "outputs": [
    {
     "data": {
      "text/plain": [
       "(72012.2359, 17309.95933634675)"
      ]
     },
     "execution_count": 75,
     "metadata": {},
     "output_type": "execute_result"
    }
   ],
   "source": [
    "from env import get_db_url\n",
    "\n",
    "query = '''\n",
    "SELECT AVG(salary) AS avg_salary, STD(salary) AS std_salary\n",
    "FROM salaries\n",
    "WHERE salaries.to_date > NOW()\n",
    "'''\n",
    "\n",
    "salaries = pd.read_sql(query, get_db_url('employees'))\n",
    "avg_salary = salaries.avg_salary[0]\n",
    "std_salary = salaries.std_salary[0]\n",
    "avg_salary, std_salary"
   ]
  },
  {
   "cell_type": "code",
   "execution_count": 82,
   "id": "421a04f9",
   "metadata": {},
   "outputs": [
    {
     "name": "stdout",
     "output_type": "stream",
     "text": [
      "Average salary is $72012.2359, with a standard deviation of $17309.95933634675\n"
     ]
    }
   ],
   "source": [
    "print(f'Average salary is ${avg_salary}, with a standard deviation of ${std_salary}')"
   ]
  },
  {
   "cell_type": "markdown",
   "id": "f3acf45d",
   "metadata": {},
   "source": [
    "#### (7a) What percent of employees earn less than 60,000?"
   ]
  },
  {
   "cell_type": "code",
   "execution_count": 76,
   "id": "30ca58ca",
   "metadata": {},
   "outputs": [
    {
     "data": {
      "text/plain": [
       "0.2438569709201618"
      ]
     },
     "execution_count": 76,
     "metadata": {},
     "output_type": "execute_result"
    }
   ],
   "source": [
    "stats.norm(avg_salary, std_salary).cdf(60000)"
   ]
  },
  {
   "cell_type": "markdown",
   "id": "0a610c15",
   "metadata": {},
   "source": [
    "ANS: 24.4% of current employees earn less than \\$60,000"
   ]
  },
  {
   "cell_type": "markdown",
   "id": "72ff1e88",
   "metadata": {},
   "source": [
    "#### (7b) What percent of employees earn more than 95,000?"
   ]
  },
  {
   "cell_type": "code",
   "execution_count": 77,
   "id": "f90777b4",
   "metadata": {},
   "outputs": [
    {
     "data": {
      "text/plain": [
       "0.09208773564924777"
      ]
     },
     "execution_count": 77,
     "metadata": {},
     "output_type": "execute_result"
    }
   ],
   "source": [
    "stats.norm(avg_salary, std_salary).sf(95000)"
   ]
  },
  {
   "cell_type": "markdown",
   "id": "23f09212",
   "metadata": {},
   "source": [
    "ANS: 9.2%"
   ]
  },
  {
   "cell_type": "markdown",
   "id": "0230bcff",
   "metadata": {},
   "source": [
    "#### (7c) What percent of employees earn between 65,000 and 80,000?"
   ]
  },
  {
   "cell_type": "code",
   "execution_count": 78,
   "id": "b7fbd5e7",
   "metadata": {},
   "outputs": [
    {
     "data": {
      "text/plain": [
       "0.3350612231883823"
      ]
     },
     "execution_count": 78,
     "metadata": {},
     "output_type": "execute_result"
    }
   ],
   "source": [
    "1 - stats.norm(avg_salary, std_salary).sf(80000) - stats.norm(avg_salary, std_salary).cdf(65000)"
   ]
  },
  {
   "cell_type": "markdown",
   "id": "af4495d2",
   "metadata": {},
   "source": [
    "ANS: 33.5%"
   ]
  },
  {
   "cell_type": "markdown",
   "id": "523ed015",
   "metadata": {},
   "source": [
    "#### (7d) What do the top 5% of employees make?"
   ]
  },
  {
   "cell_type": "code",
   "execution_count": 84,
   "id": "d701e0b2",
   "metadata": {},
   "outputs": [
    {
     "data": {
      "text/plain": [
       "100484.58529677246"
      ]
     },
     "execution_count": 84,
     "metadata": {},
     "output_type": "execute_result"
    }
   ],
   "source": [
    "stats.norm(avg_salary, std_salary).isf(.05)"
   ]
  },
  {
   "cell_type": "markdown",
   "id": "77060959",
   "metadata": {},
   "source": [
    "ANS: \\$100,485"
   ]
  }
 ],
 "metadata": {
  "kernelspec": {
   "display_name": "Python 3 (ipykernel)",
   "language": "python",
   "name": "python3"
  },
  "language_info": {
   "codemirror_mode": {
    "name": "ipython",
    "version": 3
   },
   "file_extension": ".py",
   "mimetype": "text/x-python",
   "name": "python",
   "nbconvert_exporter": "python",
   "pygments_lexer": "ipython3",
   "version": "3.9.7"
  }
 },
 "nbformat": 4,
 "nbformat_minor": 5
}
