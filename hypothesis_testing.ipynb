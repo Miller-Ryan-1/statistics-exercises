{
 "cells": [
  {
   "cell_type": "markdown",
   "id": "407f062b",
   "metadata": {},
   "source": [
    "## For each of the following questions, formulate a null and alternative hypothesis (be as specific as you can be), then give an example of what a true positive, true negative, type I and type II errors would look like. Note that some of the questions are intentionally phrased in a vague way. It is your job to reword these as more precise questions that could be tested."
   ]
  },
  {
   "cell_type": "markdown",
   "id": "7383230d",
   "metadata": {},
   "source": [
    "### 1. Has the network latency gone up since we switched internet service providers?"
   ]
  },
  {
   "cell_type": "markdown",
   "id": "70d175c4",
   "metadata": {},
   "source": [
    "#### Restated:\n",
    "Has network latency (in time) increased with the new ISP?\n",
    "#### H0 (null hypothesis) =\n",
    "Network latency is the same for both ISPs.\n",
    "#### Ha (alt.hypothesis) = \n",
    "Network latency is greater with the new ISP.\n",
    "#### True positive example:\n",
    "Network latency is greater with the new ISP, and our hypothesis testing rejects H0.\n",
    "#### True negative example:\n",
    "Network latency is the same between the two, and our hypothesis testing accepts H0.\n",
    "#### Type I error (false pos.) example:\n",
    "Network latency is the same, but we reject the H0 and say the new one is longer.\n",
    "#### Type II error (false neg.) example:\n",
    "Network latency is greater with the new ISP, but we accept H0 (that they are the same)."
   ]
  },
  {
   "cell_type": "markdown",
   "id": "0e41e92c",
   "metadata": {},
   "source": [
    "### 2. Is the website redesign any good?"
   ]
  },
  {
   "cell_type": "markdown",
   "id": "e10ed360",
   "metadata": {},
   "source": [
    "#### Restated:\n",
    "Is the new website design leading to more sales?\n",
    "#### H0 (null hypothesis) =\n",
    "Sales rates and metrics related to the website are the same for both designs.\n",
    "#### Ha (alt.hypothesis) = \n",
    "Sales rates and metrics related to the website are greater for new design.\n",
    "#### True positive example:\n",
    "Sales rates and metrics related to the website are up and we rejected the H0.\n",
    "#### True negative example:\n",
    "Sales rates and metrics related to the website haven't changed, and we've accepted the H0 (that they wouldn't).\n",
    "#### Type I error (false pos.) example:\n",
    "Sales rates and metrics related to the website haven't changed, but we reject the H0 and say they are greater.\n",
    "#### Type II error (false neg.) example:\n",
    "Sales rates and metrics related to the website have improved, but we accept the H0 thinking they haven't."
   ]
  },
  {
   "cell_type": "markdown",
   "id": "b6f4b57b",
   "metadata": {},
   "source": [
    "### 3. Is our television ad driving more sales?"
   ]
  },
  {
   "cell_type": "markdown",
   "id": "66a2ada0",
   "metadata": {},
   "source": [
    "#### Restated:\n",
    "During the time and in the markets where our television ad plays, have sales increased compared to other markets and times without the ad?\n",
    "#### H0 (null hypothesis) =\n",
    "Sales are no different between the markets and times where the ad plays, and where it does not.\n",
    "#### Ha (alt.hypothesis) = \n",
    "Sales are different between the markets and times where the ad plays, and where it does not.\n",
    "#### True positive example:\n",
    "When/where the ad plays sales go up, and we have rejected H0.\n",
    "#### True negative example:\n",
    "When/where the ad plays sales are no different than elsewhere, and we have accepted H0.\n",
    "#### Type I error (false pos.) example:\n",
    "Network latency is the same, but we reject the H0 and say the new one is longer.\n",
    "#### Type II error (false neg.) example:\n",
    "Network latency is greater with the new ISP, but we accept H0 (that they are the same)."
   ]
  }
 ],
 "metadata": {
  "kernelspec": {
   "display_name": "Python 3 (ipykernel)",
   "language": "python",
   "name": "python3"
  },
  "language_info": {
   "codemirror_mode": {
    "name": "ipython",
    "version": 3
   },
   "file_extension": ".py",
   "mimetype": "text/x-python",
   "name": "python",
   "nbconvert_exporter": "python",
   "pygments_lexer": "ipython3",
   "version": "3.9.7"
  }
 },
 "nbformat": 4,
 "nbformat_minor": 5
}
