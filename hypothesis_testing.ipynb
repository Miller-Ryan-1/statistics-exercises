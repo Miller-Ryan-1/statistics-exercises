{
 "cells": [
  {
   "cell_type": "markdown",
   "id": "cb62a1ff",
   "metadata": {},
   "source": [
    "## I. For each of the following questions, formulate a null and alternative hypothesis (be as specific as you can be), then give an example of what a true positive, true negative, type I and type II errors would look like. Note that some of the questions are intentionally phrased in a vague way. It is your job to reword these as more precise questions that could be tested."
   ]
  },
  {
   "cell_type": "markdown",
   "id": "cea82611",
   "metadata": {},
   "source": [
    "### 1. Has the network latency gone up since we switched internet service providers?"
   ]
  },
  {
   "cell_type": "markdown",
   "id": "8f2d81b3",
   "metadata": {},
   "source": [
    "#### Restated:\n",
    "Has network latency (in time) increased with the new ISP?\n",
    "#### H0 (null hypothesis) =\n",
    "Network latency with the new ISP is the same or less than the old ISP.\n",
    "#### Ha (alt.hypothesis) = \n",
    "Network latency is greater with the new ISP.\n",
    "#### True positive example:\n",
    "Network latency is greater with the new ISP, and our hypothesis testing rejects H0.\n",
    "#### True negative example:\n",
    "Network latency is the same between the two, and our hypothesis testing accepts H0.\n",
    "#### Type I error (false pos.) example:\n",
    "Network latency is the same, but we reject the H0 and say the new one is longer.\n",
    "#### Type II error (false neg.) example:\n",
    "Network latency is greater with the new ISP, but we accept H0 (that they are the same or its decreased)."
   ]
  },
  {
   "cell_type": "markdown",
   "id": "e323fbcc",
   "metadata": {},
   "source": [
    "### 2. Is the website redesign any good?"
   ]
  },
  {
   "cell_type": "markdown",
   "id": "00a970c4",
   "metadata": {},
   "source": [
    "#### Restated:\n",
    "Is the new website design leading to more sales?\n",
    "#### H0 (null hypothesis) =\n",
    "Sales rates and metrics related to the website are the same for both designs, or have decreased.\n",
    "#### Ha (alt.hypothesis) = \n",
    "Sales rates and metrics related to the website are greater for new design.\n",
    "#### True positive example:\n",
    "Sales rates and metrics related to the website are up and we rejected the H0.\n",
    "#### True negative example:\n",
    "Sales rates and metrics related to the website haven't changed, and we've accepted the H0 (that they wouldn't).\n",
    "#### Type I error (false pos.) example:\n",
    "Sales rates and metrics related to the website haven't changed, but we reject the H0 and say they are greater.\n",
    "#### Type II error (false neg.) example:\n",
    "Sales rates and metrics related to the website have improved, but we accept the H0 thinking they haven't (or have decreased)."
   ]
  },
  {
   "cell_type": "markdown",
   "id": "c012681b",
   "metadata": {},
   "source": [
    "### 3. Is our television ad driving more sales?"
   ]
  },
  {
   "cell_type": "markdown",
   "id": "0d10c789",
   "metadata": {},
   "source": [
    "#### Restated:\n",
    "During the time and in the markets where our television ad plays, have sales increased compared to other markets and times without the ad?\n",
    "#### H0 (null hypothesis) =\n",
    "Sales are no different or lower between the markets and times where the ad plays, and where it does not.\n",
    "#### Ha (alt.hypothesis) = \n",
    "Sales are different between the markets and times where the ad plays, and where it does not.\n",
    "#### True positive example:\n",
    "When/where the ad plays sales go up, and we have rejected H0.\n",
    "#### True negative example:\n",
    "When/where the ad plays sales are no different than elsewhere, and we have accepted H0.\n",
    "#### Type I error (false pos.) example:\n",
    "When/where the ad plays sales are no different than elsewhere, but we reject the H0 and say sales are better.\n",
    "#### Type II error (false neg.) example:\n",
    "When/where the ad plays sales go up, but we accept H0 (that they are the same)."
   ]
  },
  {
   "cell_type": "markdown",
   "id": "1a75472a",
   "metadata": {},
   "source": [
    "## II. t-tests"
   ]
  },
  {
   "cell_type": "code",
   "execution_count": 225,
   "id": "994b472a",
   "metadata": {},
   "outputs": [],
   "source": [
    "import numpy as np\n",
    "import seaborn as sns\n",
    "import scipy.stats as stats\n",
    "import pandas as pd\n",
    "import matplotlib.pyplot as plt\n",
    "import env"
   ]
  },
  {
   "cell_type": "markdown",
   "id": "61ad41b6",
   "metadata": {},
   "source": [
    "### 4. Ace Realty wants to determine whether the average time it takes to sell homes is different for its two offices. A sample of 40 sales from office #1 revealed a mean of 90 days and a standard deviation of 15 days. A sample of 50 sales from office #2 revealed a mean of 100 days and a standard deviation of 20 days. Use a .05 level of significance."
   ]
  },
  {
   "cell_type": "code",
   "execution_count": 58,
   "id": "c039d195",
   "metadata": {},
   "outputs": [
    {
     "data": {
      "text/plain": [
       "0.00811206270346016"
      ]
     },
     "execution_count": 58,
     "metadata": {},
     "output_type": "execute_result"
    }
   ],
   "source": [
    "office1_mean = 90\n",
    "office1_sdev = 15\n",
    "office1_n = 40\n",
    "\n",
    "office2_mean = 100\n",
    "office2_sdev = 20\n",
    "office2_n = 50\n",
    "\n",
    "office1 = np.random.normal(office1_mean, office1_sdev, office1_n)\n",
    "office2 = np.random.normal(office2_mean, office2_sdev, office2_n)\n",
    "\n",
    "alpha = .05\n",
    "\n",
    "#30+ samples, independant, test variances:\n",
    "office1.var(), office2.var()\n",
    "#unequal variances\n",
    "\n",
    "#H0 - There is no differnce in time.\n",
    "#Ha - There is a difference in time.\n",
    "#Two sided t-test\n",
    "\n",
    "t,p = stats.ttest_ind_from_stats(office1_mean, office1_sdev, office1_n, office2_mean, office2_sdev, office2_n, equal_var = False)\n",
    "p\n",
    "\n",
    "# p < alpha, therefore we reject the null hypothesis"
   ]
  },
  {
   "cell_type": "markdown",
   "id": "bd15c565",
   "metadata": {},
   "source": [
    "0.008 < .05, thus we reject the null hypothesis"
   ]
  },
  {
   "cell_type": "markdown",
   "id": "1b87527c",
   "metadata": {},
   "source": [
    "### 5. From pydataset use 'mpg'"
   ]
  },
  {
   "cell_type": "code",
   "execution_count": 16,
   "id": "bbe66fd4",
   "metadata": {},
   "outputs": [],
   "source": [
    "from pydataset import data\n",
    "mpg = data('mpg')"
   ]
  },
  {
   "cell_type": "markdown",
   "id": "32a6cc88",
   "metadata": {},
   "source": [
    "#### (5a) Is there a difference in fuel-efficiency in cars from 2008 vs 1999?"
   ]
  },
  {
   "cell_type": "code",
   "execution_count": 35,
   "id": "03fbff0e",
   "metadata": {},
   "outputs": [
    {
     "data": {
      "text/html": [
       "<div>\n",
       "<style scoped>\n",
       "    .dataframe tbody tr th:only-of-type {\n",
       "        vertical-align: middle;\n",
       "    }\n",
       "\n",
       "    .dataframe tbody tr th {\n",
       "        vertical-align: top;\n",
       "    }\n",
       "\n",
       "    .dataframe thead th {\n",
       "        text-align: right;\n",
       "    }\n",
       "</style>\n",
       "<table border=\"1\" class=\"dataframe\">\n",
       "  <thead>\n",
       "    <tr style=\"text-align: right;\">\n",
       "      <th></th>\n",
       "      <th>manufacturer</th>\n",
       "      <th>model</th>\n",
       "      <th>displ</th>\n",
       "      <th>year</th>\n",
       "      <th>cyl</th>\n",
       "      <th>trans</th>\n",
       "      <th>drv</th>\n",
       "      <th>cty</th>\n",
       "      <th>hwy</th>\n",
       "      <th>fl</th>\n",
       "      <th>class</th>\n",
       "      <th>efficiency</th>\n",
       "    </tr>\n",
       "  </thead>\n",
       "  <tbody>\n",
       "    <tr>\n",
       "      <th>1</th>\n",
       "      <td>audi</td>\n",
       "      <td>a4</td>\n",
       "      <td>1.8</td>\n",
       "      <td>1999</td>\n",
       "      <td>4</td>\n",
       "      <td>auto(l5)</td>\n",
       "      <td>f</td>\n",
       "      <td>18</td>\n",
       "      <td>29</td>\n",
       "      <td>p</td>\n",
       "      <td>compact</td>\n",
       "      <td>23.5</td>\n",
       "    </tr>\n",
       "    <tr>\n",
       "      <th>2</th>\n",
       "      <td>audi</td>\n",
       "      <td>a4</td>\n",
       "      <td>1.8</td>\n",
       "      <td>1999</td>\n",
       "      <td>4</td>\n",
       "      <td>manual(m5)</td>\n",
       "      <td>f</td>\n",
       "      <td>21</td>\n",
       "      <td>29</td>\n",
       "      <td>p</td>\n",
       "      <td>compact</td>\n",
       "      <td>25.0</td>\n",
       "    </tr>\n",
       "    <tr>\n",
       "      <th>3</th>\n",
       "      <td>audi</td>\n",
       "      <td>a4</td>\n",
       "      <td>2.0</td>\n",
       "      <td>2008</td>\n",
       "      <td>4</td>\n",
       "      <td>manual(m6)</td>\n",
       "      <td>f</td>\n",
       "      <td>20</td>\n",
       "      <td>31</td>\n",
       "      <td>p</td>\n",
       "      <td>compact</td>\n",
       "      <td>25.5</td>\n",
       "    </tr>\n",
       "    <tr>\n",
       "      <th>4</th>\n",
       "      <td>audi</td>\n",
       "      <td>a4</td>\n",
       "      <td>2.0</td>\n",
       "      <td>2008</td>\n",
       "      <td>4</td>\n",
       "      <td>auto(av)</td>\n",
       "      <td>f</td>\n",
       "      <td>21</td>\n",
       "      <td>30</td>\n",
       "      <td>p</td>\n",
       "      <td>compact</td>\n",
       "      <td>25.5</td>\n",
       "    </tr>\n",
       "    <tr>\n",
       "      <th>5</th>\n",
       "      <td>audi</td>\n",
       "      <td>a4</td>\n",
       "      <td>2.8</td>\n",
       "      <td>1999</td>\n",
       "      <td>6</td>\n",
       "      <td>auto(l5)</td>\n",
       "      <td>f</td>\n",
       "      <td>16</td>\n",
       "      <td>26</td>\n",
       "      <td>p</td>\n",
       "      <td>compact</td>\n",
       "      <td>21.0</td>\n",
       "    </tr>\n",
       "  </tbody>\n",
       "</table>\n",
       "</div>"
      ],
      "text/plain": [
       "  manufacturer model  displ  year  cyl       trans drv  cty  hwy fl    class  \\\n",
       "1         audi    a4    1.8  1999    4    auto(l5)   f   18   29  p  compact   \n",
       "2         audi    a4    1.8  1999    4  manual(m5)   f   21   29  p  compact   \n",
       "3         audi    a4    2.0  2008    4  manual(m6)   f   20   31  p  compact   \n",
       "4         audi    a4    2.0  2008    4    auto(av)   f   21   30  p  compact   \n",
       "5         audi    a4    2.8  1999    6    auto(l5)   f   16   26  p  compact   \n",
       "\n",
       "   efficiency  \n",
       "1        23.5  \n",
       "2        25.0  \n",
       "3        25.5  \n",
       "4        25.5  \n",
       "5        21.0  "
      ]
     },
     "execution_count": 35,
     "metadata": {},
     "output_type": "execute_result"
    }
   ],
   "source": [
    "mpg.head()"
   ]
  },
  {
   "cell_type": "code",
   "execution_count": 27,
   "id": "47a01236",
   "metadata": {},
   "outputs": [
    {
     "data": {
      "text/plain": [
       "(117, 117)"
      ]
     },
     "execution_count": 27,
     "metadata": {},
     "output_type": "execute_result"
    }
   ],
   "source": [
    "cars_2008 = mpg[mpg.year == 2008].efficiency\n",
    "cars_1999 = mpg[mpg.year == 1999].efficiency\n",
    "cars_1999.count(), cars_2008.count()"
   ]
  },
  {
   "cell_type": "code",
   "execution_count": 31,
   "id": "2f63aa00",
   "metadata": {},
   "outputs": [
    {
     "data": {
      "text/plain": [
       "(20.076923076923077, 20.22222222222222, 4.90891842528482, 5.207936766511732)"
      ]
     },
     "execution_count": 31,
     "metadata": {},
     "output_type": "execute_result"
    }
   ],
   "source": [
    "#n = 117 for both so can assume normalcy.  Lets check descriptive stats:\n",
    "cars_2008.mean(), cars_1999.mean(), cars_2008.std(), cars_1999.std()"
   ]
  },
  {
   "cell_type": "code",
   "execution_count": 59,
   "id": "d3c97cc2",
   "metadata": {},
   "outputs": [
    {
     "data": {
      "text/plain": [
       "(-0.21960177245940962, 0.8263744040323578)"
      ]
     },
     "execution_count": 59,
     "metadata": {},
     "output_type": "execute_result"
    }
   ],
   "source": [
    "t,p = stats.ttest_ind(cars_2008, cars_1999, equal_var = True)\n",
    "t, p"
   ]
  },
  {
   "cell_type": "markdown",
   "id": "63db35a4",
   "metadata": {},
   "source": [
    "We do not reject the null hypothesis that there is no difference in fuel econ between 1999 and 2008"
   ]
  },
  {
   "cell_type": "markdown",
   "id": "e47c0af5",
   "metadata": {},
   "source": [
    "#### (5b) Are compact cars more fuel-efficient than the average car?"
   ]
  },
  {
   "cell_type": "code",
   "execution_count": 40,
   "id": "ddb660e8",
   "metadata": {},
   "outputs": [
    {
     "data": {
      "text/plain": [
       "array(['compact', 'midsize', 'suv', '2seater', 'minivan', 'pickup',\n",
       "       'subcompact'], dtype=object)"
      ]
     },
     "execution_count": 40,
     "metadata": {},
     "output_type": "execute_result"
    }
   ],
   "source": [
    "mpg['class'].unique()"
   ]
  },
  {
   "cell_type": "code",
   "execution_count": 44,
   "id": "ad0c8cf8",
   "metadata": {},
   "outputs": [
    {
     "data": {
      "text/plain": [
       "count    234.000000\n",
       "mean      20.149573\n",
       "std        5.050290\n",
       "min       10.500000\n",
       "25%       15.500000\n",
       "50%       20.500000\n",
       "75%       23.500000\n",
       "max       39.500000\n",
       "Name: efficiency, dtype: float64"
      ]
     },
     "execution_count": 44,
     "metadata": {},
     "output_type": "execute_result"
    }
   ],
   "source": [
    "cars_compact = mpg[mpg['class'] == 'compact'].efficiency\n",
    "cars = mpg.efficiency\n",
    "cars_compact. describe()\n",
    "cars.describe()"
   ]
  },
  {
   "cell_type": "code",
   "execution_count": 46,
   "id": "f2e7abae",
   "metadata": {},
   "outputs": [
    {
     "data": {
      "text/plain": [
       "(6.646345489688162, 2.3577939603784718e-09)"
      ]
     },
     "execution_count": 46,
     "metadata": {},
     "output_type": "execute_result"
    }
   ],
   "source": [
    "t,p = stats.ttest_ind_from_stats(cars_compact.mean(), cars_compact.std(), cars_compact.count(), cars.mean(), cars.std(), cars.count(), equal_var = False)\n",
    "t, p"
   ]
  },
  {
   "cell_type": "markdown",
   "id": "e9838e5b",
   "metadata": {},
   "source": [
    "We reject the null hypothesis that compact cars have the same fuel economy as the average car (compact inclusive)."
   ]
  },
  {
   "cell_type": "markdown",
   "id": "23885549",
   "metadata": {},
   "source": [
    "#### (5c) Do manual cars get better gas mileage than automatic cars?"
   ]
  },
  {
   "cell_type": "code",
   "execution_count": 48,
   "id": "461cb97d",
   "metadata": {},
   "outputs": [
    {
     "data": {
      "text/plain": [
       "array(['auto(l5)', 'manual(m5)', 'manual(m6)', 'auto(av)', 'auto(s6)',\n",
       "       'auto(l4)', 'auto(l3)', 'auto(l6)', 'auto(s5)', 'auto(s4)'],\n",
       "      dtype=object)"
      ]
     },
     "execution_count": 48,
     "metadata": {},
     "output_type": "execute_result"
    }
   ],
   "source": [
    "mpg['trans'].unique()"
   ]
  },
  {
   "cell_type": "code",
   "execution_count": 56,
   "id": "ff3d709a",
   "metadata": {},
   "outputs": [
    {
     "data": {
      "text/plain": [
       "(-4.443514012903071, 1.795224899991793e-05)"
      ]
     },
     "execution_count": 56,
     "metadata": {},
     "output_type": "execute_result"
    }
   ],
   "source": [
    "cars_auto = mpg[mpg['trans'].str.contains('auto')].efficiency\n",
    "cars_man = mpg[mpg['trans'].str.contains('manual')].efficiency\n",
    "\n",
    "t,p = stats.ttest_ind_from_stats(cars_auto.mean(), cars_auto.std(), cars_auto.count(), cars_man.mean(), cars_man.std(), cars_man.count(), equal_var = False)\n",
    "t, p"
   ]
  },
  {
   "cell_type": "code",
   "execution_count": 57,
   "id": "8cb28acb",
   "metadata": {},
   "outputs": [
    {
     "data": {
      "text/plain": [
       "(19.130573248407643, 22.227272727272727)"
      ]
     },
     "execution_count": 57,
     "metadata": {},
     "output_type": "execute_result"
    }
   ],
   "source": [
    "cars_auto.mean(), cars_man.mean()"
   ]
  },
  {
   "cell_type": "markdown",
   "id": "108eff7e",
   "metadata": {},
   "source": [
    "We reject the null hypothesis that manual and automatic cars get the same gas mileage."
   ]
  },
  {
   "cell_type": "markdown",
   "id": "07b8ed1a",
   "metadata": {},
   "source": [
    "## III. Correlation"
   ]
  },
  {
   "cell_type": "markdown",
   "id": "2e683470",
   "metadata": {},
   "source": [
    "### 6. Use the telco_churn data. Does tenure correlate with monthly charges? Total charges? What happens if you control for phone and internet service?"
   ]
  },
  {
   "cell_type": "code",
   "execution_count": 135,
   "id": "4533afbf",
   "metadata": {},
   "outputs": [
    {
     "name": "stdout",
     "output_type": "stream",
     "text": [
      "<class 'pandas.core.frame.DataFrame'>\n",
      "Int64Index: 7038 entries, 0 to 7048\n",
      "Data columns (total 19 columns):\n",
      " #   Column                     Non-Null Count  Dtype  \n",
      "---  ------                     --------------  -----  \n",
      " 0   customer_id                7038 non-null   object \n",
      " 1   gender                     7038 non-null   object \n",
      " 2   is_senior_bool             7038 non-null   int64  \n",
      " 3   is_senior                  7038 non-null   object \n",
      " 4   payment_type               7038 non-null   object \n",
      " 5   monthly_charges            7038 non-null   float64\n",
      " 6   total_charges              7038 non-null   float64\n",
      " 7   churn                      7038 non-null   object \n",
      " 8   tenure                     7038 non-null   float64\n",
      " 9   is_female_bool             7038 non-null   int64  \n",
      " 10  has_churned_bool           7038 non-null   int64  \n",
      " 11  has_phone_bool             7038 non-null   int64  \n",
      " 12  has_internet_bool          7038 non-null   int64  \n",
      " 13  contract_details           7038 non-null   object \n",
      " 14  phone_service_details      7038 non-null   object \n",
      " 15  internet_service_details   7038 non-null   object \n",
      " 16  service_combination        7038 non-null   object \n",
      " 17  partner_dependants_status  7038 non-null   object \n",
      " 18  full_months_tenure         7038 non-null   int64  \n",
      "dtypes: float64(3), int64(6), object(10)\n",
      "memory usage: 1.1+ MB\n"
     ]
    }
   ],
   "source": [
    "# import telco data from wherever it lives\n",
    "telco = pd.read_csv('telco_data.csv')\n",
    "telco = telco.dropna()\n",
    "telco.info()"
   ]
  },
  {
   "cell_type": "code",
   "execution_count": 136,
   "id": "afefe783",
   "metadata": {},
   "outputs": [
    {
     "data": {
      "text/plain": [
       "<AxesSubplot:xlabel='total_charges', ylabel='full_months_tenure'>"
      ]
     },
     "execution_count": 136,
     "metadata": {},
     "output_type": "execute_result"
    },
    {
     "data": {
      "image/png": "[encoded data removed]",
      "text/plain": [
       "<Figure size 432x288 with 1 Axes>"
      ]
     },
     "metadata": {
      "needs_background": "light"
     },
     "output_type": "display_data"
    }
   ],
   "source": [
    "#scatterplot the tenure \n",
    "telco.plot.scatter(y='full_months_tenure', x='total_charges')"
   ]
  },
  {
   "cell_type": "code",
   "execution_count": 139,
   "id": "dd92396d",
   "metadata": {},
   "outputs": [
    {
     "data": {
      "text/plain": [
       "<AxesSubplot:xlabel='monthly_charges', ylabel='full_months_tenure'>"
      ]
     },
     "execution_count": 139,
     "metadata": {},
     "output_type": "execute_result"
    },
    {
     "data": {
      "image/png": "[encoded data removed]",
      "text/plain": [
       "<Figure size 432x288 with 1 Axes>"
      ]
     },
     "metadata": {
      "needs_background": "light"
     },
     "output_type": "display_data"
    }
   ],
   "source": [
    "telco.plot.scatter(y='full_months_tenure', x='monthly_charges')"
   ]
  },
  {
   "cell_type": "code",
   "execution_count": 140,
   "id": "e97266d3",
   "metadata": {},
   "outputs": [
    {
     "name": "stdout",
     "output_type": "stream",
     "text": [
      "r = 0.8257946976871967\n",
      "p = 0.0\n"
     ]
    },
    {
     "data": {
      "text/plain": [
       "<seaborn.axisgrid.FacetGrid at 0x7fdcf9f4f790>"
      ]
     },
     "execution_count": 140,
     "metadata": {},
     "output_type": "execute_result"
    },
    {
     "data": {
      "image/png": "[encoded data removed]",
      "text/plain": [
       "<Figure size 1080x360 with 3 Axes>"
      ]
     },
     "metadata": {
      "needs_background": "light"
     },
     "output_type": "display_data"
    }
   ],
   "source": [
    "x = telco.full_months_tenure\n",
    "y = telco.total_charges.fillna(0)\n",
    "r, p = stats.pearsonr(x, y)\n",
    "print('r =', r)\n",
    "print('p =', p)\n",
    "sns.relplot(data = telco, y = 'total_charges',x = 'full_months_tenure', col='internet_service_details')"
   ]
  },
  {
   "cell_type": "code",
   "execution_count": 141,
   "id": "9d7620c7",
   "metadata": {},
   "outputs": [
    {
     "data": {
      "text/plain": [
       "<seaborn.axisgrid.FacetGrid at 0x7fdd55ae5b20>"
      ]
     },
     "execution_count": 141,
     "metadata": {},
     "output_type": "execute_result"
    },
    {
     "data": {
      "image/png": "[encoded data removed]",
      "text/plain": [
       "<Figure size 1080x360 with 3 Axes>"
      ]
     },
     "metadata": {
      "needs_background": "light"
     },
     "output_type": "display_data"
    }
   ],
   "source": [
    "sns.relplot(data = telco, y = 'total_charges',x = 'full_months_tenure', col='phone_service_details')"
   ]
  },
  {
   "cell_type": "markdown",
   "id": "51524187",
   "metadata": {},
   "source": [
    "### 7. Use the employees database."
   ]
  },
  {
   "cell_type": "code",
   "execution_count": 161,
   "id": "f04fd7d7",
   "metadata": {},
   "outputs": [],
   "source": [
    "from env import get_db_url"
   ]
  },
  {
   "cell_type": "markdown",
   "id": "d2b724c7",
   "metadata": {},
   "source": [
    "#### (7a) Is there a relationship between how long an employee has been with the company and their salary?"
   ]
  },
  {
   "cell_type": "code",
   "execution_count": 103,
   "id": "5a6eec4e",
   "metadata": {},
   "outputs": [
    {
     "data": {
      "text/html": [
       "<div>\n",
       "<style scoped>\n",
       "    .dataframe tbody tr th:only-of-type {\n",
       "        vertical-align: middle;\n",
       "    }\n",
       "\n",
       "    .dataframe tbody tr th {\n",
       "        vertical-align: top;\n",
       "    }\n",
       "\n",
       "    .dataframe thead th {\n",
       "        text-align: right;\n",
       "    }\n",
       "</style>\n",
       "<table border=\"1\" class=\"dataframe\">\n",
       "  <thead>\n",
       "    <tr style=\"text-align: right;\">\n",
       "      <th></th>\n",
       "      <th>emp_no</th>\n",
       "      <th>salary</th>\n",
       "      <th>Tenure</th>\n",
       "    </tr>\n",
       "  </thead>\n",
       "  <tbody>\n",
       "    <tr>\n",
       "      <th>0</th>\n",
       "      <td>10001</td>\n",
       "      <td>60117</td>\n",
       "      <td>1.0</td>\n",
       "    </tr>\n",
       "    <tr>\n",
       "      <th>1</th>\n",
       "      <td>10001</td>\n",
       "      <td>62102</td>\n",
       "      <td>2.0</td>\n",
       "    </tr>\n",
       "    <tr>\n",
       "      <th>2</th>\n",
       "      <td>10001</td>\n",
       "      <td>66074</td>\n",
       "      <td>3.0</td>\n",
       "    </tr>\n",
       "    <tr>\n",
       "      <th>3</th>\n",
       "      <td>10001</td>\n",
       "      <td>66596</td>\n",
       "      <td>4.0</td>\n",
       "    </tr>\n",
       "    <tr>\n",
       "      <th>4</th>\n",
       "      <td>10001</td>\n",
       "      <td>66961</td>\n",
       "      <td>5.0</td>\n",
       "    </tr>\n",
       "  </tbody>\n",
       "</table>\n",
       "</div>"
      ],
      "text/plain": [
       "   emp_no  salary  Tenure\n",
       "0   10001   60117     1.0\n",
       "1   10001   62102     2.0\n",
       "2   10001   66074     3.0\n",
       "3   10001   66596     4.0\n",
       "4   10001   66961     5.0"
      ]
     },
     "execution_count": 103,
     "metadata": {},
     "output_type": "execute_result"
    }
   ],
   "source": [
    "query = '''\n",
    "SELECT \n",
    "    employees.emp_no,\n",
    "    salaries.salary,\n",
    "    DATEDIFF(IF(salaries.to_date > NOW(),\n",
    "                NOW(),\n",
    "                salaries.to_date),\n",
    "            employees.hire_date) / 365 AS Tenure\n",
    "FROM\n",
    "    employees\n",
    "        JOIN\n",
    "    salaries USING (emp_no);\n",
    "'''\n",
    "\n",
    "salaries = pd.read_sql(query, get_db_url('employees'))\n",
    "salaries.head()"
   ]
  },
  {
   "cell_type": "code",
   "execution_count": 107,
   "id": "3d40f3e7",
   "metadata": {},
   "outputs": [
    {
     "data": {
      "text/plain": [
       "<AxesSubplot:xlabel='Tenure', ylabel='salary'>"
      ]
     },
     "execution_count": 107,
     "metadata": {},
     "output_type": "execute_result"
    },
    {
     "data": {
      "image/png": "[encoded data removed]",
      "text/plain": [
       "<Figure size 432x288 with 1 Axes>"
      ]
     },
     "metadata": {
      "needs_background": "light"
     },
     "output_type": "display_data"
    }
   ],
   "source": [
    "salaries.plot.scatter(y='salary', x='Tenure')"
   ]
  },
  {
   "cell_type": "code",
   "execution_count": 110,
   "id": "16561f22",
   "metadata": {},
   "outputs": [
    {
     "data": {
      "text/plain": [
       "(0.3072319257599605, 0.0)"
      ]
     },
     "execution_count": 110,
     "metadata": {},
     "output_type": "execute_result"
    }
   ],
   "source": [
    "r, p = stats.pearsonr(salaries.Tenure, salaries.salary)\n",
    "r,p"
   ]
  },
  {
   "cell_type": "markdown",
   "id": "0a050681",
   "metadata": {},
   "source": [
    "#### (7b) Is there a relationship between how long an employee has been with the company and the number of titles they have had?"
   ]
  },
  {
   "cell_type": "code",
   "execution_count": 123,
   "id": "ff24c89e",
   "metadata": {},
   "outputs": [
    {
     "data": {
      "text/html": [
       "<div>\n",
       "<style scoped>\n",
       "    .dataframe tbody tr th:only-of-type {\n",
       "        vertical-align: middle;\n",
       "    }\n",
       "\n",
       "    .dataframe tbody tr th {\n",
       "        vertical-align: top;\n",
       "    }\n",
       "\n",
       "    .dataframe thead th {\n",
       "        text-align: right;\n",
       "    }\n",
       "</style>\n",
       "<table border=\"1\" class=\"dataframe\">\n",
       "  <thead>\n",
       "    <tr style=\"text-align: right;\">\n",
       "      <th></th>\n",
       "      <th>emp_no</th>\n",
       "      <th>Tenure</th>\n",
       "      <th>Titles</th>\n",
       "    </tr>\n",
       "  </thead>\n",
       "  <tbody>\n",
       "    <tr>\n",
       "      <th>232980</th>\n",
       "      <td>432956</td>\n",
       "      <td>36.0137</td>\n",
       "      <td>2</td>\n",
       "    </tr>\n",
       "    <tr>\n",
       "      <th>230202</th>\n",
       "      <td>430178</td>\n",
       "      <td>35.6630</td>\n",
       "      <td>2</td>\n",
       "    </tr>\n",
       "    <tr>\n",
       "      <th>271641</th>\n",
       "      <td>471617</td>\n",
       "      <td>34.5205</td>\n",
       "      <td>2</td>\n",
       "    </tr>\n",
       "    <tr>\n",
       "      <th>247781</th>\n",
       "      <td>447757</td>\n",
       "      <td>36.1479</td>\n",
       "      <td>2</td>\n",
       "    </tr>\n",
       "    <tr>\n",
       "      <th>83136</th>\n",
       "      <td>93137</td>\n",
       "      <td>11.3233</td>\n",
       "      <td>2</td>\n",
       "    </tr>\n",
       "    <tr>\n",
       "      <th>286913</th>\n",
       "      <td>486889</td>\n",
       "      <td>27.5288</td>\n",
       "      <td>1</td>\n",
       "    </tr>\n",
       "    <tr>\n",
       "      <th>114606</th>\n",
       "      <td>214582</td>\n",
       "      <td>34.7233</td>\n",
       "      <td>2</td>\n",
       "    </tr>\n",
       "    <tr>\n",
       "      <th>218357</th>\n",
       "      <td>418333</td>\n",
       "      <td>28.5014</td>\n",
       "      <td>2</td>\n",
       "    </tr>\n",
       "    <tr>\n",
       "      <th>118845</th>\n",
       "      <td>218821</td>\n",
       "      <td>35.0082</td>\n",
       "      <td>1</td>\n",
       "    </tr>\n",
       "    <tr>\n",
       "      <th>10641</th>\n",
       "      <td>20642</td>\n",
       "      <td>32.9096</td>\n",
       "      <td>2</td>\n",
       "    </tr>\n",
       "  </tbody>\n",
       "</table>\n",
       "</div>"
      ],
      "text/plain": [
       "        emp_no   Tenure  Titles\n",
       "232980  432956  36.0137       2\n",
       "230202  430178  35.6630       2\n",
       "271641  471617  34.5205       2\n",
       "247781  447757  36.1479       2\n",
       "83136    93137  11.3233       2\n",
       "286913  486889  27.5288       1\n",
       "114606  214582  34.7233       2\n",
       "218357  418333  28.5014       2\n",
       "118845  218821  35.0082       1\n",
       "10641    20642  32.9096       2"
      ]
     },
     "execution_count": 123,
     "metadata": {},
     "output_type": "execute_result"
    }
   ],
   "source": [
    "query = '''\n",
    "SELECT \n",
    "    employees.emp_no,\n",
    "    MAX(DATEDIFF(IF(titles.to_date > NOW(),\n",
    "                NOW(),\n",
    "                titles.to_date),\n",
    "            employees.hire_date) / 365) AS Tenure,\n",
    "    COUNT(titles.title) AS Titles\n",
    "FROM\n",
    "    employees\n",
    "        JOIN\n",
    "    titles USING (emp_no)\n",
    "    GROUP BY emp_no;\n",
    "'''\n",
    "\n",
    "title_count = pd.read_sql(query, get_db_url('employees'))\n",
    "title_count.sample(10)"
   ]
  },
  {
   "cell_type": "code",
   "execution_count": 124,
   "id": "09074ce9",
   "metadata": {},
   "outputs": [
    {
     "data": {
      "text/plain": [
       "<AxesSubplot:xlabel='Tenure', ylabel='Titles'>"
      ]
     },
     "execution_count": 124,
     "metadata": {},
     "output_type": "execute_result"
    },
    {
     "data": {
      "image/png": "[encoded data removed]",
      "text/plain": [
       "<Figure size 432x288 with 1 Axes>"
      ]
     },
     "metadata": {
      "needs_background": "light"
     },
     "output_type": "display_data"
    }
   ],
   "source": [
    "title_count.plot.scatter(y='Titles', x='Tenure')"
   ]
  },
  {
   "cell_type": "code",
   "execution_count": 126,
   "id": "1778318c",
   "metadata": {},
   "outputs": [
    {
     "data": {
      "text/plain": [
       "(0.3492143792631931, 0.0)"
      ]
     },
     "execution_count": 126,
     "metadata": {},
     "output_type": "execute_result"
    }
   ],
   "source": [
    "r, p = stats.pearsonr(title_count.Titles, title_count.Tenure)\n",
    "r,p"
   ]
  },
  {
   "cell_type": "markdown",
   "id": "838c4bc7",
   "metadata": {},
   "source": [
    "### 8. Use the sleepstudy data. Is there a relationship between days and reaction time?"
   ]
  },
  {
   "cell_type": "code",
   "execution_count": 131,
   "id": "69090078",
   "metadata": {},
   "outputs": [],
   "source": [
    "from pydataset import data\n",
    "sleep = data(\"sleepstudy\")"
   ]
  },
  {
   "cell_type": "code",
   "execution_count": 132,
   "id": "fc2cf6c4",
   "metadata": {},
   "outputs": [
    {
     "data": {
      "text/html": [
       "<div>\n",
       "<style scoped>\n",
       "    .dataframe tbody tr th:only-of-type {\n",
       "        vertical-align: middle;\n",
       "    }\n",
       "\n",
       "    .dataframe tbody tr th {\n",
       "        vertical-align: top;\n",
       "    }\n",
       "\n",
       "    .dataframe thead th {\n",
       "        text-align: right;\n",
       "    }\n",
       "</style>\n",
       "<table border=\"1\" class=\"dataframe\">\n",
       "  <thead>\n",
       "    <tr style=\"text-align: right;\">\n",
       "      <th></th>\n",
       "      <th>Reaction</th>\n",
       "      <th>Days</th>\n",
       "      <th>Subject</th>\n",
       "    </tr>\n",
       "  </thead>\n",
       "  <tbody>\n",
       "    <tr>\n",
       "      <th>count</th>\n",
       "      <td>180.000000</td>\n",
       "      <td>180.000000</td>\n",
       "      <td>180.000000</td>\n",
       "    </tr>\n",
       "    <tr>\n",
       "      <th>mean</th>\n",
       "      <td>298.507892</td>\n",
       "      <td>4.500000</td>\n",
       "      <td>341.277778</td>\n",
       "    </tr>\n",
       "    <tr>\n",
       "      <th>std</th>\n",
       "      <td>56.328757</td>\n",
       "      <td>2.880293</td>\n",
       "      <td>20.320905</td>\n",
       "    </tr>\n",
       "    <tr>\n",
       "      <th>min</th>\n",
       "      <td>194.332200</td>\n",
       "      <td>0.000000</td>\n",
       "      <td>308.000000</td>\n",
       "    </tr>\n",
       "    <tr>\n",
       "      <th>25%</th>\n",
       "      <td>255.375825</td>\n",
       "      <td>2.000000</td>\n",
       "      <td>331.000000</td>\n",
       "    </tr>\n",
       "    <tr>\n",
       "      <th>50%</th>\n",
       "      <td>288.650800</td>\n",
       "      <td>4.500000</td>\n",
       "      <td>336.000000</td>\n",
       "    </tr>\n",
       "    <tr>\n",
       "      <th>75%</th>\n",
       "      <td>336.752075</td>\n",
       "      <td>7.000000</td>\n",
       "      <td>352.000000</td>\n",
       "    </tr>\n",
       "    <tr>\n",
       "      <th>max</th>\n",
       "      <td>466.353500</td>\n",
       "      <td>9.000000</td>\n",
       "      <td>372.000000</td>\n",
       "    </tr>\n",
       "  </tbody>\n",
       "</table>\n",
       "</div>"
      ],
      "text/plain": [
       "         Reaction        Days     Subject\n",
       "count  180.000000  180.000000  180.000000\n",
       "mean   298.507892    4.500000  341.277778\n",
       "std     56.328757    2.880293   20.320905\n",
       "min    194.332200    0.000000  308.000000\n",
       "25%    255.375825    2.000000  331.000000\n",
       "50%    288.650800    4.500000  336.000000\n",
       "75%    336.752075    7.000000  352.000000\n",
       "max    466.353500    9.000000  372.000000"
      ]
     },
     "execution_count": 132,
     "metadata": {},
     "output_type": "execute_result"
    }
   ],
   "source": [
    "sleep.describe()"
   ]
  },
  {
   "cell_type": "code",
   "execution_count": 133,
   "id": "18af7f7a",
   "metadata": {},
   "outputs": [
    {
     "data": {
      "text/plain": [
       "<AxesSubplot:xlabel='Days', ylabel='Reaction'>"
      ]
     },
     "execution_count": 133,
     "metadata": {},
     "output_type": "execute_result"
    },
    {
     "data": {
      "image/png": "[encoded data removed]",
      "text/plain": [
       "<Figure size 432x288 with 1 Axes>"
      ]
     },
     "metadata": {
      "needs_background": "light"
     },
     "output_type": "display_data"
    }
   ],
   "source": [
    "sleep.plot.scatter(y='Reaction',x='Days')"
   ]
  },
  {
   "cell_type": "code",
   "execution_count": 134,
   "id": "ce84a357",
   "metadata": {},
   "outputs": [
    {
     "data": {
      "text/plain": [
       "(0.5352302262650253, 9.894096322214812e-15)"
      ]
     },
     "execution_count": 134,
     "metadata": {},
     "output_type": "execute_result"
    }
   ],
   "source": [
    "r, p = stats.pearsonr(sleep.Reaction, sleep.Days)\n",
    "r,p"
   ]
  },
  {
   "cell_type": "markdown",
   "id": "6683bc21",
   "metadata": {},
   "source": [
    "## IV. Chi2 Correlation"
   ]
  },
  {
   "cell_type": "markdown",
   "id": "8a1e8688",
   "metadata": {},
   "source": [
    "### 1. Use the following contingency table to help answer the question of whether using a macbook and being a codeup student are independent of each other."
   ]
  },
  {
   "cell_type": "code",
   "execution_count": 334,
   "id": "94d1a0c5",
   "metadata": {},
   "outputs": [
    {
     "data": {
      "text/plain": [
       "(1.4116760526193828e-09,\n",
       "              Codeup  Not Codeup\n",
       " Macbook          49          20\n",
       " Not Macbook       1          30)"
      ]
     },
     "execution_count": 334,
     "metadata": {},
     "output_type": "execute_result"
    }
   ],
   "source": [
    "observed = [[49,20],[1,30]]  #rows - macbook yes/no, columns = codeup/not\n",
    "observed = pd.DataFrame(observed, index=['Macbook','Not Macbook'], columns=['Codeup','Not Codeup'])\n",
    "chi2, p, degf, expected = stats.chi2_contingency(observed)\n",
    "p, observed"
   ]
  },
  {
   "cell_type": "markdown",
   "id": "f39ec690",
   "metadata": {},
   "source": [
    "We reject the null hyothesis that being a Codeup student and macbook user are not independant."
   ]
  },
  {
   "cell_type": "markdown",
   "id": "85382237",
   "metadata": {},
   "source": [
    "### 2. Choose another 2 categorical variables from the mpg dataset and perform a chi2 contingency table test with them. Be sure to state your null and alternative hypotheses."
   ]
  },
  {
   "cell_type": "code",
   "execution_count": 147,
   "id": "de076a84",
   "metadata": {},
   "outputs": [
    {
     "data": {
      "text/html": [
       "<div>\n",
       "<style scoped>\n",
       "    .dataframe tbody tr th:only-of-type {\n",
       "        vertical-align: middle;\n",
       "    }\n",
       "\n",
       "    .dataframe tbody tr th {\n",
       "        vertical-align: top;\n",
       "    }\n",
       "\n",
       "    .dataframe thead th {\n",
       "        text-align: right;\n",
       "    }\n",
       "</style>\n",
       "<table border=\"1\" class=\"dataframe\">\n",
       "  <thead>\n",
       "    <tr style=\"text-align: right;\">\n",
       "      <th></th>\n",
       "      <th>manufacturer</th>\n",
       "      <th>model</th>\n",
       "      <th>displ</th>\n",
       "      <th>year</th>\n",
       "      <th>cyl</th>\n",
       "      <th>trans</th>\n",
       "      <th>drv</th>\n",
       "      <th>cty</th>\n",
       "      <th>hwy</th>\n",
       "      <th>fl</th>\n",
       "      <th>class</th>\n",
       "    </tr>\n",
       "  </thead>\n",
       "  <tbody>\n",
       "    <tr>\n",
       "      <th>7</th>\n",
       "      <td>audi</td>\n",
       "      <td>a4</td>\n",
       "      <td>3.1</td>\n",
       "      <td>2008</td>\n",
       "      <td>6</td>\n",
       "      <td>auto(av)</td>\n",
       "      <td>f</td>\n",
       "      <td>18</td>\n",
       "      <td>27</td>\n",
       "      <td>p</td>\n",
       "      <td>compact</td>\n",
       "    </tr>\n",
       "    <tr>\n",
       "      <th>23</th>\n",
       "      <td>chevrolet</td>\n",
       "      <td>c1500 suburban 2wd</td>\n",
       "      <td>6.0</td>\n",
       "      <td>2008</td>\n",
       "      <td>8</td>\n",
       "      <td>auto(l4)</td>\n",
       "      <td>r</td>\n",
       "      <td>12</td>\n",
       "      <td>17</td>\n",
       "      <td>r</td>\n",
       "      <td>suv</td>\n",
       "    </tr>\n",
       "    <tr>\n",
       "      <th>58</th>\n",
       "      <td>dodge</td>\n",
       "      <td>durango 4wd</td>\n",
       "      <td>3.9</td>\n",
       "      <td>1999</td>\n",
       "      <td>6</td>\n",
       "      <td>auto(l4)</td>\n",
       "      <td>4</td>\n",
       "      <td>13</td>\n",
       "      <td>17</td>\n",
       "      <td>r</td>\n",
       "      <td>suv</td>\n",
       "    </tr>\n",
       "  </tbody>\n",
       "</table>\n",
       "</div>"
      ],
      "text/plain": [
       "   manufacturer               model  displ  year  cyl     trans drv  cty  hwy  \\\n",
       "7          audi                  a4    3.1  2008    6  auto(av)   f   18   27   \n",
       "23    chevrolet  c1500 suburban 2wd    6.0  2008    8  auto(l4)   r   12   17   \n",
       "58        dodge         durango 4wd    3.9  1999    6  auto(l4)   4   13   17   \n",
       "\n",
       "   fl    class  \n",
       "7   p  compact  \n",
       "23  r      suv  \n",
       "58  r      suv  "
      ]
     },
     "execution_count": 147,
     "metadata": {},
     "output_type": "execute_result"
    }
   ],
   "source": [
    "mpg = data('mpg')\n",
    "mpg.sample(3)"
   ]
  },
  {
   "cell_type": "code",
   "execution_count": 155,
   "id": "c18d7694",
   "metadata": {},
   "outputs": [
    {
     "data": {
      "text/html": [
       "<div>\n",
       "<style scoped>\n",
       "    .dataframe tbody tr th:only-of-type {\n",
       "        vertical-align: middle;\n",
       "    }\n",
       "\n",
       "    .dataframe tbody tr th {\n",
       "        vertical-align: top;\n",
       "    }\n",
       "\n",
       "    .dataframe thead th {\n",
       "        text-align: right;\n",
       "    }\n",
       "</style>\n",
       "<table border=\"1\" class=\"dataframe\">\n",
       "  <thead>\n",
       "    <tr style=\"text-align: right;\">\n",
       "      <th>class</th>\n",
       "      <th>2seater</th>\n",
       "      <th>compact</th>\n",
       "      <th>midsize</th>\n",
       "      <th>minivan</th>\n",
       "      <th>pickup</th>\n",
       "      <th>subcompact</th>\n",
       "      <th>suv</th>\n",
       "    </tr>\n",
       "    <tr>\n",
       "      <th>manufacturer</th>\n",
       "      <th></th>\n",
       "      <th></th>\n",
       "      <th></th>\n",
       "      <th></th>\n",
       "      <th></th>\n",
       "      <th></th>\n",
       "      <th></th>\n",
       "    </tr>\n",
       "  </thead>\n",
       "  <tbody>\n",
       "    <tr>\n",
       "      <th>audi</th>\n",
       "      <td>0</td>\n",
       "      <td>15</td>\n",
       "      <td>3</td>\n",
       "      <td>0</td>\n",
       "      <td>0</td>\n",
       "      <td>0</td>\n",
       "      <td>0</td>\n",
       "    </tr>\n",
       "    <tr>\n",
       "      <th>chevrolet</th>\n",
       "      <td>5</td>\n",
       "      <td>0</td>\n",
       "      <td>5</td>\n",
       "      <td>0</td>\n",
       "      <td>0</td>\n",
       "      <td>0</td>\n",
       "      <td>9</td>\n",
       "    </tr>\n",
       "    <tr>\n",
       "      <th>dodge</th>\n",
       "      <td>0</td>\n",
       "      <td>0</td>\n",
       "      <td>0</td>\n",
       "      <td>11</td>\n",
       "      <td>19</td>\n",
       "      <td>0</td>\n",
       "      <td>7</td>\n",
       "    </tr>\n",
       "    <tr>\n",
       "      <th>ford</th>\n",
       "      <td>0</td>\n",
       "      <td>0</td>\n",
       "      <td>0</td>\n",
       "      <td>0</td>\n",
       "      <td>7</td>\n",
       "      <td>9</td>\n",
       "      <td>9</td>\n",
       "    </tr>\n",
       "    <tr>\n",
       "      <th>honda</th>\n",
       "      <td>0</td>\n",
       "      <td>0</td>\n",
       "      <td>0</td>\n",
       "      <td>0</td>\n",
       "      <td>0</td>\n",
       "      <td>9</td>\n",
       "      <td>0</td>\n",
       "    </tr>\n",
       "  </tbody>\n",
       "</table>\n",
       "</div>"
      ],
      "text/plain": [
       "class         2seater  compact  midsize  minivan  pickup  subcompact  suv\n",
       "manufacturer                                                             \n",
       "audi                0       15        3        0       0           0    0\n",
       "chevrolet           5        0        5        0       0           0    9\n",
       "dodge               0        0        0       11      19           0    7\n",
       "ford                0        0        0        0       7           9    9\n",
       "honda               0        0        0        0       0           9    0"
      ]
     },
     "execution_count": 155,
     "metadata": {},
     "output_type": "execute_result"
    }
   ],
   "source": [
    "#(2a) Are manufacturer and class related?\n",
    "# H0: Manufacturer and car class are independant of one another.\n",
    "# H1: Car class is related to manufacturer.\n",
    "alpha2a = .05\n",
    "obs_manufacturer_class = pd.crosstab(mpg.manufacturer,mpg['class'])\n",
    "obs_manufacturer_class.head()"
   ]
  },
  {
   "cell_type": "code",
   "execution_count": 156,
   "id": "c99bd8dc",
   "metadata": {},
   "outputs": [
    {
     "data": {
      "text/plain": [
       "5.267718408816259e-54"
      ]
     },
     "execution_count": 156,
     "metadata": {},
     "output_type": "execute_result"
    }
   ],
   "source": [
    "chi2, p, degf, expected = stats.chi2_contingency(obs_manufacturer_class)\n",
    "p"
   ]
  },
  {
   "cell_type": "code",
   "execution_count": 157,
   "id": "d04f5a07",
   "metadata": {},
   "outputs": [
    {
     "name": "stdout",
     "output_type": "stream",
     "text": [
      "Reject that null H\n"
     ]
    }
   ],
   "source": [
    "if p < alpha2a:\n",
    "    print('Reject that null H')\n",
    "else:\n",
    "    print('We cannot reject that the variables are indepedant')"
   ]
  },
  {
   "cell_type": "code",
   "execution_count": 159,
   "id": "c359ce32",
   "metadata": {},
   "outputs": [
    {
     "data": {
      "text/html": [
       "<div>\n",
       "<style scoped>\n",
       "    .dataframe tbody tr th:only-of-type {\n",
       "        vertical-align: middle;\n",
       "    }\n",
       "\n",
       "    .dataframe tbody tr th {\n",
       "        vertical-align: top;\n",
       "    }\n",
       "\n",
       "    .dataframe thead th {\n",
       "        text-align: right;\n",
       "    }\n",
       "</style>\n",
       "<table border=\"1\" class=\"dataframe\">\n",
       "  <thead>\n",
       "    <tr style=\"text-align: right;\">\n",
       "      <th>year</th>\n",
       "      <th>1999</th>\n",
       "      <th>2008</th>\n",
       "    </tr>\n",
       "    <tr>\n",
       "      <th>cyl</th>\n",
       "      <th></th>\n",
       "      <th></th>\n",
       "    </tr>\n",
       "  </thead>\n",
       "  <tbody>\n",
       "    <tr>\n",
       "      <th>4</th>\n",
       "      <td>45</td>\n",
       "      <td>36</td>\n",
       "    </tr>\n",
       "    <tr>\n",
       "      <th>5</th>\n",
       "      <td>0</td>\n",
       "      <td>4</td>\n",
       "    </tr>\n",
       "    <tr>\n",
       "      <th>6</th>\n",
       "      <td>45</td>\n",
       "      <td>34</td>\n",
       "    </tr>\n",
       "    <tr>\n",
       "      <th>8</th>\n",
       "      <td>27</td>\n",
       "      <td>43</td>\n",
       "    </tr>\n",
       "  </tbody>\n",
       "</table>\n",
       "</div>"
      ],
      "text/plain": [
       "year  1999  2008\n",
       "cyl             \n",
       "4       45    36\n",
       "5        0     4\n",
       "6       45    34\n",
       "8       27    43"
      ]
     },
     "execution_count": 159,
     "metadata": {},
     "output_type": "execute_result"
    }
   ],
   "source": [
    "obs_cyl_year = pd.crosstab(mpg.cyl, mpg.year)\n",
    "obs_cyl_year"
   ]
  },
  {
   "cell_type": "code",
   "execution_count": 160,
   "id": "f87e07c4",
   "metadata": {},
   "outputs": [
    {
     "data": {
      "text/plain": [
       "0.01702768537665195"
      ]
     },
     "execution_count": 160,
     "metadata": {},
     "output_type": "execute_result"
    }
   ],
   "source": [
    "chi2, p, degf, expected = stats.chi2_contingency(obs_cyl_year)\n",
    "p"
   ]
  },
  {
   "cell_type": "markdown",
   "id": "3faeb9f4",
   "metadata": {},
   "source": [
    "p < .05 meaning we reject the Null hypothesis and say that there is a relationship between year and engine cylinder, albeit weak..."
   ]
  },
  {
   "cell_type": "markdown",
   "id": "0f15a054",
   "metadata": {},
   "source": [
    "### 3. Use the data from the employees database to answer the following questions:\n"
   ]
  },
  {
   "cell_type": "markdown",
   "id": "1f297523",
   "metadata": {},
   "source": [
    "#### (3a) Is an employee's gender independent of whether an employee works in sales or marketing? (only look at current employees)"
   ]
  },
  {
   "cell_type": "code",
   "execution_count": 315,
   "id": "843aaab2",
   "metadata": {},
   "outputs": [],
   "source": [
    "# SQL query that pulls current employees with their gender and seperated into Sales a& Marketing or not"
   ]
  },
  {
   "cell_type": "code",
   "execution_count": 175,
   "id": "9140276f",
   "metadata": {},
   "outputs": [
    {
     "data": {
      "text/html": [
       "<div>\n",
       "<style scoped>\n",
       "    .dataframe tbody tr th:only-of-type {\n",
       "        vertical-align: middle;\n",
       "    }\n",
       "\n",
       "    .dataframe tbody tr th {\n",
       "        vertical-align: top;\n",
       "    }\n",
       "\n",
       "    .dataframe thead th {\n",
       "        text-align: right;\n",
       "    }\n",
       "</style>\n",
       "<table border=\"1\" class=\"dataframe\">\n",
       "  <thead>\n",
       "    <tr style=\"text-align: right;\">\n",
       "      <th>sales_marketing</th>\n",
       "      <th>False</th>\n",
       "      <th>True</th>\n",
       "    </tr>\n",
       "    <tr>\n",
       "      <th>gender</th>\n",
       "      <th></th>\n",
       "      <th></th>\n",
       "    </tr>\n",
       "  </thead>\n",
       "  <tbody>\n",
       "    <tr>\n",
       "      <th>F</th>\n",
       "      <td>28715</td>\n",
       "      <td>8028</td>\n",
       "    </tr>\n",
       "    <tr>\n",
       "      <th>M</th>\n",
       "      <td>42851</td>\n",
       "      <td>11885</td>\n",
       "    </tr>\n",
       "  </tbody>\n",
       "</table>\n",
       "</div>"
      ],
      "text/plain": [
       "sales_marketing  False   True\n",
       "gender                       \n",
       "F                28715   8028\n",
       "M                42851  11885"
      ]
     },
     "execution_count": 175,
     "metadata": {},
     "output_type": "execute_result"
    }
   ],
   "source": [
    "query3a = '''\n",
    "SELECT \n",
    "    departments.dept_name, dept_emp.emp_no, employees.gender\n",
    "FROM\n",
    "    departments\n",
    "        JOIN\n",
    "    dept_emp USING (dept_no)\n",
    "        JOIN\n",
    "    employees USING (emp_no)\n",
    "WHERE\n",
    "    dept_emp.to_date < NOW();\n",
    "'''\n",
    "\n",
    "employees3a = pd.read_sql(query3a, get_db_url('employees'))\n",
    "employees3a['sales_marketing'] = employees3a.dept_name.isin(['Sales','Marketing'])\n",
    "\n",
    "obs_gender_dept = pd.crosstab(employees3a.gender, employees3a.sales_marketing)\n",
    "obs_gender_dept"
   ]
  },
  {
   "cell_type": "code",
   "execution_count": 176,
   "id": "1e4358b1",
   "metadata": {},
   "outputs": [
    {
     "data": {
      "text/plain": [
       "0.6315360266913086"
      ]
     },
     "execution_count": 176,
     "metadata": {},
     "output_type": "execute_result"
    }
   ],
   "source": [
    "chi2, p, degf, expected = stats.chi2_contingency(obs_gender_dept)\n",
    "p"
   ]
  },
  {
   "cell_type": "markdown",
   "id": "cebcdf35",
   "metadata": {},
   "source": [
    "He accept the null hypothesis that gender and working in sales and marketing are independant."
   ]
  },
  {
   "cell_type": "markdown",
   "id": "8a4ef2ac",
   "metadata": {},
   "source": [
    "#### (3b) Is an employee's gender independent of whether or not they are or have been a manager?"
   ]
  },
  {
   "cell_type": "code",
   "execution_count": 204,
   "id": "78f845e1",
   "metadata": {},
   "outputs": [
    {
     "data": {
      "text/plain": [
       "0.22745818732810363"
      ]
     },
     "execution_count": 204,
     "metadata": {},
     "output_type": "execute_result"
    }
   ],
   "source": [
    "#Select all the managers ever:\n",
    "query3b1 = '''\n",
    "SELECT employees.gender, COUNT(employees.gender) AS manager_count \n",
    "FROM employees \n",
    "JOIN dept_manager USING(emp_no) \n",
    "GROUP BY employees.gender;\n",
    "'''\n",
    "query3b2 = '''\n",
    "SELECT employees.gender, COUNT(employees.gender) AS total_count \n",
    "FROM employees \n",
    "LEFT JOIN dept_manager USING(emp_no) \n",
    "GROUP BY employees.gender;\n",
    "'''\n",
    "\n",
    "emp3b1 = pd.read_sql(query3b1, get_db_url('employees'))\n",
    "emp3b2 = pd.read_sql(query3b2, get_db_url('employees'))\n",
    "\n",
    "non_managers = emp3b2.total_count - emp3b1.manager_count\n",
    "non_managers[0], non_managers[1]\n",
    "asdf = [[11,179962],[13,120038]]\n",
    "\n",
    "chi2, p, degf, expected = stats.chi2_contingency(asdf)\n",
    "p"
   ]
  },
  {
   "cell_type": "markdown",
   "id": "64523fd9",
   "metadata": {},
   "source": [
    "## V. Bonus"
   ]
  },
  {
   "cell_type": "markdown",
   "id": "6c9a13e6",
   "metadata": {},
   "source": [
    "To reinforce the content, I decided to examine the Titanic Database and run each of the types of hypothesis testing to find correlations within the data."
   ]
  },
  {
   "cell_type": "code",
   "execution_count": 241,
   "id": "7c7fcfad",
   "metadata": {},
   "outputs": [
    {
     "name": "stdout",
     "output_type": "stream",
     "text": [
      "<class 'pandas.core.frame.DataFrame'>\n",
      "RangeIndex: 891 entries, 0 to 890\n",
      "Data columns (total 13 columns):\n",
      " #   Column        Non-Null Count  Dtype  \n",
      "---  ------        --------------  -----  \n",
      " 0   passenger_id  891 non-null    int64  \n",
      " 1   survived      891 non-null    int64  \n",
      " 2   pclass        891 non-null    int64  \n",
      " 3   sex           891 non-null    object \n",
      " 4   age           714 non-null    float64\n",
      " 5   sibsp         891 non-null    int64  \n",
      " 6   parch         891 non-null    int64  \n",
      " 7   fare          891 non-null    float64\n",
      " 8   embarked      889 non-null    object \n",
      " 9   class         891 non-null    object \n",
      " 10  deck          203 non-null    object \n",
      " 11  embark_town   889 non-null    object \n",
      " 12  alone         891 non-null    int64  \n",
      "dtypes: float64(2), int64(6), object(5)\n",
      "memory usage: 90.6+ KB\n"
     ]
    }
   ],
   "source": [
    "# Load database\n",
    "## import url signup info from env.py\n",
    "from env import get_db_url\n",
    "\n",
    "## create SQL code (test tehre first!)\n",
    "query = '''\n",
    "SELECT *\n",
    "FROM passengers;\n",
    "'''\n",
    "\n",
    "## assign sql query result to a dataframe variable\n",
    "titanics = pd.read_sql(query, get_db_url('titanic_db'))\n",
    "\n",
    "## describe the data\n",
    "titanics.info()"
   ]
  },
  {
   "cell_type": "code",
   "execution_count": 216,
   "id": "5c46304b",
   "metadata": {},
   "outputs": [
    {
     "data": {
      "text/plain": [
       "1    537\n",
       "0    354\n",
       "Name: alone, dtype: int64"
      ]
     },
     "execution_count": 216,
     "metadata": {},
     "output_type": "execute_result"
    }
   ],
   "source": [
    "# What questions do we want to answer about this data?\n",
    "# - Is younger age {cont} associated with survival {cat}? (t-test, one sided)\n",
    "# - Is higher average fare paid {cont} associated with survival{cat}? (t-test, one-sided)\n",
    "# - Are Passenger class {cat} and survival {cat} correlated?\n",
    "# - Are fare {cont} and class {cat} (t-test, two-sided)\n",
    "# - Are fare {cont} and age {cont} corelated? {needed a pearsonr}\n",
    "# - Alone {cat} and embarktown {cat} - Is there a correlation between these folks?\n",
    "# - Alone {cat} and survived {cat}?"
   ]
  },
  {
   "cell_type": "markdown",
   "id": "960c0f19",
   "metadata": {},
   "source": [
    "Is age associated with survival?\n",
    "\n",
    "$H0:$ Younger people were no more likely to survive than an average aged passenger or older. or, the mean age of suvivors is greater than or equal to the average passenger age.\n",
    "$Ha:$ Younger people were more likely to survive than an average aged passenger or older. or, the mean age of surviors is less than the average age."
   ]
  },
  {
   "cell_type": "code",
   "execution_count": 223,
   "id": "2d159471",
   "metadata": {},
   "outputs": [
    {
     "data": {
      "text/plain": [
       "<AxesSubplot:xlabel='survived', ylabel='age'>"
      ]
     },
     "execution_count": 223,
     "metadata": {},
     "output_type": "execute_result"
    },
    {
     "data": {
      "image/png": "[encoded data removed]",
      "text/plain": [
       "<Figure size 432x288 with 1 Axes>"
      ]
     },
     "metadata": {
      "needs_background": "light"
     },
     "output_type": "display_data"
    }
   ],
   "source": [
    "sns.histplot(x='survived', y='age', data=titanics)"
   ]
  },
  {
   "cell_type": "code",
   "execution_count": 251,
   "id": "dcb256b8",
   "metadata": {},
   "outputs": [
    {
     "data": {
      "text/plain": [
       "29.69911764705882"
      ]
     },
     "execution_count": 251,
     "metadata": {},
     "output_type": "execute_result"
    }
   ],
   "source": [
    "alpha = .05 #will use this for all hypothesis testing\n",
    "\n",
    "#first use only na values\n",
    "t2 = titanics[titanics.age >0]\n",
    "\n",
    "survivors = t2[t2.survived == 1]\n",
    "mean_age = t2.age.mean()\n",
    "mean_age"
   ]
  },
  {
   "cell_type": "code",
   "execution_count": 262,
   "id": "aaff7abf",
   "metadata": {},
   "outputs": [
    {
     "data": {
      "text/plain": [
       "(-1.5438553337279277, 0.06185882576453591)"
      ]
     },
     "execution_count": 262,
     "metadata": {},
     "output_type": "execute_result"
    }
   ],
   "source": [
    "t,p = stats.ttest_1samp(survivors.age, mean_age)\n",
    "p = p/2\n",
    "t, p"
   ]
  },
  {
   "cell_type": "code",
   "execution_count": 261,
   "id": "0321588e",
   "metadata": {},
   "outputs": [
    {
     "name": "stdout",
     "output_type": "stream",
     "text": [
      "We fail to reject the null hypothesis that the mean age of survivors is greater than or equal to the average passenger age\n"
     ]
    }
   ],
   "source": [
    "if p < alpha:\n",
    "    print('We reject the null hypothesis that mean age of survivors is greater than or equal to the average passenger age')\n",
    "else:\n",
    "    print('We fail to reject the null hypothesis that the mean age of survivors is greater than or equal to the average passenger age')"
   ]
  },
  {
   "cell_type": "markdown",
   "id": "854b68b9",
   "metadata": {},
   "source": [
    "So, while we fail to determine if passenger age has anything to do with survivalship, we notice it is close and the t is negative, so we can almost reject the null hypothesis - certainly at only a 90% CI."
   ]
  },
  {
   "cell_type": "markdown",
   "id": "7a95e5c5",
   "metadata": {},
   "source": [
    "#### Fair cost and survival"
   ]
  },
  {
   "cell_type": "code",
   "execution_count": 279,
   "id": "1c694602",
   "metadata": {},
   "outputs": [
    {
     "data": {
      "text/plain": [
       "4.74879037261462e-06"
      ]
     },
     "execution_count": 279,
     "metadata": {},
     "output_type": "execute_result"
    }
   ],
   "source": [
    "#we have equal numbers of entries for fare and survival, so no need to clean data\n",
    "# H0: no difference between fare and survival\n",
    "# Ha: higher fare folks survived more than average\n",
    "\n",
    "survivors = titanics[titanics.survived == 1]\n",
    "mean_fare = titanics.fare.mean()\n",
    "mean_fare\n",
    "\n",
    "t,p = stats.ttest_1samp(survivors.fare, mean_fare)\n",
    "p = p/2\n",
    "p"
   ]
  },
  {
   "cell_type": "code",
   "execution_count": 280,
   "id": "5f216c61",
   "metadata": {},
   "outputs": [
    {
     "name": "stdout",
     "output_type": "stream",
     "text": [
      "We reject the null hypothesis that higher fare customers survived at the same rate as the average fare customer\n"
     ]
    }
   ],
   "source": [
    "if p < alpha:\n",
    "    print('We reject the null hypothesis that higher fare customers survived at the same rate as the average fare customer')\n",
    "else:\n",
    "    print('We fail to reject the null hypothesis of blah blah')"
   ]
  },
  {
   "cell_type": "markdown",
   "id": "82303999",
   "metadata": {},
   "source": [
    "#### Passenger Class and Survival"
   ]
  },
  {
   "cell_type": "code",
   "execution_count": 288,
   "id": "285b8ff7",
   "metadata": {},
   "outputs": [
    {
     "data": {
      "text/plain": [
       "4.549251711298793e-23"
      ]
     },
     "execution_count": 288,
     "metadata": {},
     "output_type": "execute_result"
    }
   ],
   "source": [
    "observations = pd.crosstab(titanics.pclass, titanics.survived)\n",
    "\n",
    "chi2, p, degf, expected = stats.chi2_contingency(observations)\n",
    "\n",
    "p"
   ]
  },
  {
   "cell_type": "markdown",
   "id": "1d70f521",
   "metadata": {},
   "source": [
    "#### Are fare and age correlated?"
   ]
  },
  {
   "cell_type": "code",
   "execution_count": 293,
   "id": "aed8b6f6",
   "metadata": {},
   "outputs": [
    {
     "data": {
      "text/plain": [
       "<AxesSubplot:xlabel='age', ylabel='fare'>"
      ]
     },
     "execution_count": 293,
     "metadata": {},
     "output_type": "execute_result"
    },
    {
     "data": {
      "image/png": "[encoded data removed]",
      "text/plain": [
       "<Figure size 432x288 with 1 Axes>"
      ]
     },
     "metadata": {
      "needs_background": "light"
     },
     "output_type": "display_data"
    }
   ],
   "source": [
    "sns.scatterplot(data=titanics[titanics.age>0], x='age',y='fare')"
   ]
  },
  {
   "cell_type": "code",
   "execution_count": 296,
   "id": "f347fd4a",
   "metadata": {},
   "outputs": [
    {
     "data": {
      "text/plain": [
       "(0.09606669176903906, 0.010216277504441524)"
      ]
     },
     "execution_count": 296,
     "metadata": {},
     "output_type": "execute_result"
    }
   ],
   "source": [
    "r, p = stats.pearsonr(t2.fare, t2.age)\n",
    "r,p"
   ]
  },
  {
   "cell_type": "markdown",
   "id": "f7f58240",
   "metadata": {},
   "source": [
    "Looks like there is the slightest correlations between r and p."
   ]
  },
  {
   "cell_type": "markdown",
   "id": "d6d604a1",
   "metadata": {},
   "source": [
    "#### Alone and embarcation point?"
   ]
  },
  {
   "cell_type": "code",
   "execution_count": 304,
   "id": "c47b94a4",
   "metadata": {},
   "outputs": [
    {
     "data": {
      "text/html": [
       "<div>\n",
       "<style scoped>\n",
       "    .dataframe tbody tr th:only-of-type {\n",
       "        vertical-align: middle;\n",
       "    }\n",
       "\n",
       "    .dataframe tbody tr th {\n",
       "        vertical-align: top;\n",
       "    }\n",
       "\n",
       "    .dataframe thead th {\n",
       "        text-align: right;\n",
       "    }\n",
       "</style>\n",
       "<table border=\"1\" class=\"dataframe\">\n",
       "  <thead>\n",
       "    <tr style=\"text-align: right;\">\n",
       "      <th></th>\n",
       "      <th>passenger_id</th>\n",
       "      <th>survived</th>\n",
       "      <th>pclass</th>\n",
       "      <th>sex</th>\n",
       "      <th>age</th>\n",
       "      <th>sibsp</th>\n",
       "      <th>parch</th>\n",
       "      <th>fare</th>\n",
       "      <th>embarked</th>\n",
       "      <th>class</th>\n",
       "      <th>deck</th>\n",
       "      <th>embark_town</th>\n",
       "      <th>alone</th>\n",
       "    </tr>\n",
       "  </thead>\n",
       "  <tbody>\n",
       "    <tr>\n",
       "      <th>0</th>\n",
       "      <td>0</td>\n",
       "      <td>0</td>\n",
       "      <td>3</td>\n",
       "      <td>male</td>\n",
       "      <td>22.0</td>\n",
       "      <td>1</td>\n",
       "      <td>0</td>\n",
       "      <td>7.2500</td>\n",
       "      <td>S</td>\n",
       "      <td>Third</td>\n",
       "      <td>None</td>\n",
       "      <td>Southampton</td>\n",
       "      <td>0</td>\n",
       "    </tr>\n",
       "    <tr>\n",
       "      <th>1</th>\n",
       "      <td>1</td>\n",
       "      <td>1</td>\n",
       "      <td>1</td>\n",
       "      <td>female</td>\n",
       "      <td>38.0</td>\n",
       "      <td>1</td>\n",
       "      <td>0</td>\n",
       "      <td>71.2833</td>\n",
       "      <td>C</td>\n",
       "      <td>First</td>\n",
       "      <td>C</td>\n",
       "      <td>Cherbourg</td>\n",
       "      <td>0</td>\n",
       "    </tr>\n",
       "    <tr>\n",
       "      <th>2</th>\n",
       "      <td>2</td>\n",
       "      <td>1</td>\n",
       "      <td>3</td>\n",
       "      <td>female</td>\n",
       "      <td>26.0</td>\n",
       "      <td>0</td>\n",
       "      <td>0</td>\n",
       "      <td>7.9250</td>\n",
       "      <td>S</td>\n",
       "      <td>Third</td>\n",
       "      <td>None</td>\n",
       "      <td>Southampton</td>\n",
       "      <td>1</td>\n",
       "    </tr>\n",
       "    <tr>\n",
       "      <th>3</th>\n",
       "      <td>3</td>\n",
       "      <td>1</td>\n",
       "      <td>1</td>\n",
       "      <td>female</td>\n",
       "      <td>35.0</td>\n",
       "      <td>1</td>\n",
       "      <td>0</td>\n",
       "      <td>53.1000</td>\n",
       "      <td>S</td>\n",
       "      <td>First</td>\n",
       "      <td>C</td>\n",
       "      <td>Southampton</td>\n",
       "      <td>0</td>\n",
       "    </tr>\n",
       "    <tr>\n",
       "      <th>4</th>\n",
       "      <td>4</td>\n",
       "      <td>0</td>\n",
       "      <td>3</td>\n",
       "      <td>male</td>\n",
       "      <td>35.0</td>\n",
       "      <td>0</td>\n",
       "      <td>0</td>\n",
       "      <td>8.0500</td>\n",
       "      <td>S</td>\n",
       "      <td>Third</td>\n",
       "      <td>None</td>\n",
       "      <td>Southampton</td>\n",
       "      <td>1</td>\n",
       "    </tr>\n",
       "    <tr>\n",
       "      <th>...</th>\n",
       "      <td>...</td>\n",
       "      <td>...</td>\n",
       "      <td>...</td>\n",
       "      <td>...</td>\n",
       "      <td>...</td>\n",
       "      <td>...</td>\n",
       "      <td>...</td>\n",
       "      <td>...</td>\n",
       "      <td>...</td>\n",
       "      <td>...</td>\n",
       "      <td>...</td>\n",
       "      <td>...</td>\n",
       "      <td>...</td>\n",
       "    </tr>\n",
       "    <tr>\n",
       "      <th>886</th>\n",
       "      <td>886</td>\n",
       "      <td>0</td>\n",
       "      <td>2</td>\n",
       "      <td>male</td>\n",
       "      <td>27.0</td>\n",
       "      <td>0</td>\n",
       "      <td>0</td>\n",
       "      <td>13.0000</td>\n",
       "      <td>S</td>\n",
       "      <td>Second</td>\n",
       "      <td>None</td>\n",
       "      <td>Southampton</td>\n",
       "      <td>1</td>\n",
       "    </tr>\n",
       "    <tr>\n",
       "      <th>887</th>\n",
       "      <td>887</td>\n",
       "      <td>1</td>\n",
       "      <td>1</td>\n",
       "      <td>female</td>\n",
       "      <td>19.0</td>\n",
       "      <td>0</td>\n",
       "      <td>0</td>\n",
       "      <td>30.0000</td>\n",
       "      <td>S</td>\n",
       "      <td>First</td>\n",
       "      <td>B</td>\n",
       "      <td>Southampton</td>\n",
       "      <td>1</td>\n",
       "    </tr>\n",
       "    <tr>\n",
       "      <th>888</th>\n",
       "      <td>888</td>\n",
       "      <td>0</td>\n",
       "      <td>3</td>\n",
       "      <td>female</td>\n",
       "      <td>NaN</td>\n",
       "      <td>1</td>\n",
       "      <td>2</td>\n",
       "      <td>23.4500</td>\n",
       "      <td>S</td>\n",
       "      <td>Third</td>\n",
       "      <td>None</td>\n",
       "      <td>Southampton</td>\n",
       "      <td>0</td>\n",
       "    </tr>\n",
       "    <tr>\n",
       "      <th>889</th>\n",
       "      <td>889</td>\n",
       "      <td>1</td>\n",
       "      <td>1</td>\n",
       "      <td>male</td>\n",
       "      <td>26.0</td>\n",
       "      <td>0</td>\n",
       "      <td>0</td>\n",
       "      <td>30.0000</td>\n",
       "      <td>C</td>\n",
       "      <td>First</td>\n",
       "      <td>C</td>\n",
       "      <td>Cherbourg</td>\n",
       "      <td>1</td>\n",
       "    </tr>\n",
       "    <tr>\n",
       "      <th>890</th>\n",
       "      <td>890</td>\n",
       "      <td>0</td>\n",
       "      <td>3</td>\n",
       "      <td>male</td>\n",
       "      <td>32.0</td>\n",
       "      <td>0</td>\n",
       "      <td>0</td>\n",
       "      <td>7.7500</td>\n",
       "      <td>Q</td>\n",
       "      <td>Third</td>\n",
       "      <td>None</td>\n",
       "      <td>Queenstown</td>\n",
       "      <td>1</td>\n",
       "    </tr>\n",
       "  </tbody>\n",
       "</table>\n",
       "<p>889 rows × 13 columns</p>\n",
       "</div>"
      ],
      "text/plain": [
       "     passenger_id  survived  pclass     sex   age  sibsp  parch     fare  \\\n",
       "0               0         0       3    male  22.0      1      0   7.2500   \n",
       "1               1         1       1  female  38.0      1      0  71.2833   \n",
       "2               2         1       3  female  26.0      0      0   7.9250   \n",
       "3               3         1       1  female  35.0      1      0  53.1000   \n",
       "4               4         0       3    male  35.0      0      0   8.0500   \n",
       "..            ...       ...     ...     ...   ...    ...    ...      ...   \n",
       "886           886         0       2    male  27.0      0      0  13.0000   \n",
       "887           887         1       1  female  19.0      0      0  30.0000   \n",
       "888           888         0       3  female   NaN      1      2  23.4500   \n",
       "889           889         1       1    male  26.0      0      0  30.0000   \n",
       "890           890         0       3    male  32.0      0      0   7.7500   \n",
       "\n",
       "    embarked   class  deck  embark_town  alone  \n",
       "0          S   Third  None  Southampton      0  \n",
       "1          C   First     C    Cherbourg      0  \n",
       "2          S   Third  None  Southampton      1  \n",
       "3          S   First     C  Southampton      0  \n",
       "4          S   Third  None  Southampton      1  \n",
       "..       ...     ...   ...          ...    ...  \n",
       "886        S  Second  None  Southampton      1  \n",
       "887        S   First     B  Southampton      1  \n",
       "888        S   Third  None  Southampton      0  \n",
       "889        C   First     C    Cherbourg      1  \n",
       "890        Q   Third  None   Queenstown      1  \n",
       "\n",
       "[889 rows x 13 columns]"
      ]
     },
     "execution_count": 304,
     "metadata": {},
     "output_type": "execute_result"
    }
   ],
   "source": [
    "t3 = titanics[titanics.embark_town > '']\n",
    "t3"
   ]
  },
  {
   "cell_type": "code",
   "execution_count": 307,
   "id": "0218429a",
   "metadata": {},
   "outputs": [
    {
     "data": {
      "text/plain": [
       "(12.7923491426013,\n",
       " 0.0016679256151052033,\n",
       " 2,\n",
       " array([[ 66.8976378 , 101.1023622 ],\n",
       "        [ 30.66141732,  46.33858268],\n",
       "        [256.44094488, 387.55905512]]))"
      ]
     },
     "execution_count": 307,
     "metadata": {},
     "output_type": "execute_result"
    }
   ],
   "source": [
    "observed = pd.crosstab(t3.embark_town, t3.alone)\n",
    "\n",
    "chi2, p, degf, expected = stats.chi2_contingency(observed)\n",
    "chi2, p, degf, expected"
   ]
  },
  {
   "cell_type": "code",
   "execution_count": 310,
   "id": "ff55614a",
   "metadata": {},
   "outputs": [
    {
     "data": {
      "text/html": [
       "<div>\n",
       "<style scoped>\n",
       "    .dataframe tbody tr th:only-of-type {\n",
       "        vertical-align: middle;\n",
       "    }\n",
       "\n",
       "    .dataframe tbody tr th {\n",
       "        vertical-align: top;\n",
       "    }\n",
       "\n",
       "    .dataframe thead th {\n",
       "        text-align: right;\n",
       "    }\n",
       "</style>\n",
       "<table border=\"1\" class=\"dataframe\">\n",
       "  <thead>\n",
       "    <tr style=\"text-align: right;\">\n",
       "      <th>alone</th>\n",
       "      <th>0</th>\n",
       "      <th>1</th>\n",
       "    </tr>\n",
       "    <tr>\n",
       "      <th>embark_town</th>\n",
       "      <th></th>\n",
       "      <th></th>\n",
       "    </tr>\n",
       "  </thead>\n",
       "  <tbody>\n",
       "    <tr>\n",
       "      <th>Cherbourg</th>\n",
       "      <td>83</td>\n",
       "      <td>85</td>\n",
       "    </tr>\n",
       "    <tr>\n",
       "      <th>Queenstown</th>\n",
       "      <td>20</td>\n",
       "      <td>57</td>\n",
       "    </tr>\n",
       "    <tr>\n",
       "      <th>Southampton</th>\n",
       "      <td>251</td>\n",
       "      <td>393</td>\n",
       "    </tr>\n",
       "  </tbody>\n",
       "</table>\n",
       "</div>"
      ],
      "text/plain": [
       "alone          0    1\n",
       "embark_town          \n",
       "Cherbourg     83   85\n",
       "Queenstown    20   57\n",
       "Southampton  251  393"
      ]
     },
     "execution_count": 310,
     "metadata": {},
     "output_type": "execute_result"
    }
   ],
   "source": [
    "observed"
   ]
  },
  {
   "cell_type": "code",
   "execution_count": 314,
   "id": "7a730a9c",
   "metadata": {},
   "outputs": [
    {
     "data": {
      "text/plain": [
       "(survived    0    1\n",
       " alone             \n",
       " 0         175  179\n",
       " 1         374  163,\n",
       " 1.9726543846517113e-09,\n",
       " array([[218.12121212, 135.87878788],\n",
       "        [330.87878788, 206.12121212]]))"
      ]
     },
     "execution_count": 314,
     "metadata": {},
     "output_type": "execute_result"
    }
   ],
   "source": [
    "#alone vs survived:\n",
    "observed = pd.crosstab(titanics.alone,titanics.survived)\n",
    "observed\n",
    "\n",
    "chi2, p, degf, expected = stats.chi2_contingency(observed)\n",
    "observed, p, expected"
   ]
  },
  {
   "cell_type": "markdown",
   "id": "a357d95f",
   "metadata": {},
   "source": [
    "### Tips categorical programmatic comparison!"
   ]
  },
  {
   "cell_type": "code",
   "execution_count": 316,
   "id": "3c7b2580",
   "metadata": {},
   "outputs": [
    {
     "data": {
      "text/html": [
       "<div>\n",
       "<style scoped>\n",
       "    .dataframe tbody tr th:only-of-type {\n",
       "        vertical-align: middle;\n",
       "    }\n",
       "\n",
       "    .dataframe tbody tr th {\n",
       "        vertical-align: top;\n",
       "    }\n",
       "\n",
       "    .dataframe thead th {\n",
       "        text-align: right;\n",
       "    }\n",
       "</style>\n",
       "<table border=\"1\" class=\"dataframe\">\n",
       "  <thead>\n",
       "    <tr style=\"text-align: right;\">\n",
       "      <th></th>\n",
       "      <th>total_bill</th>\n",
       "      <th>tip</th>\n",
       "      <th>sex</th>\n",
       "      <th>smoker</th>\n",
       "      <th>day</th>\n",
       "      <th>time</th>\n",
       "      <th>size</th>\n",
       "    </tr>\n",
       "  </thead>\n",
       "  <tbody>\n",
       "    <tr>\n",
       "      <th>139</th>\n",
       "      <td>16.00</td>\n",
       "      <td>2.0</td>\n",
       "      <td>Male</td>\n",
       "      <td>Yes</td>\n",
       "      <td>Thur</td>\n",
       "      <td>Lunch</td>\n",
       "      <td>2</td>\n",
       "    </tr>\n",
       "    <tr>\n",
       "      <th>185</th>\n",
       "      <td>40.55</td>\n",
       "      <td>3.0</td>\n",
       "      <td>Male</td>\n",
       "      <td>Yes</td>\n",
       "      <td>Sun</td>\n",
       "      <td>Dinner</td>\n",
       "      <td>2</td>\n",
       "    </tr>\n",
       "    <tr>\n",
       "      <th>94</th>\n",
       "      <td>16.32</td>\n",
       "      <td>4.3</td>\n",
       "      <td>Female</td>\n",
       "      <td>Yes</td>\n",
       "      <td>Fri</td>\n",
       "      <td>Dinner</td>\n",
       "      <td>2</td>\n",
       "    </tr>\n",
       "  </tbody>\n",
       "</table>\n",
       "</div>"
      ],
      "text/plain": [
       "     total_bill  tip     sex smoker   day    time  size\n",
       "139       16.00  2.0    Male    Yes  Thur   Lunch     2\n",
       "185       40.55  3.0    Male    Yes   Sun  Dinner     2\n",
       "94        16.32  4.3  Female    Yes   Fri  Dinner     2"
      ]
     },
     "execution_count": 316,
     "metadata": {},
     "output_type": "execute_result"
    }
   ],
   "source": [
    "tips = data('tips')\n",
    "tips.sample(3)"
   ]
  },
  {
   "cell_type": "code",
   "execution_count": 319,
   "id": "a4344dac",
   "metadata": {},
   "outputs": [
    {
     "name": "stdout",
     "output_type": "stream",
     "text": [
      "<class 'pandas.core.frame.DataFrame'>\n",
      "Int64Index: 244 entries, 1 to 244\n",
      "Data columns (total 7 columns):\n",
      " #   Column      Non-Null Count  Dtype  \n",
      "---  ------      --------------  -----  \n",
      " 0   total_bill  244 non-null    float64\n",
      " 1   tip         244 non-null    float64\n",
      " 2   sex         244 non-null    object \n",
      " 3   smoker      244 non-null    object \n",
      " 4   day         244 non-null    object \n",
      " 5   time        244 non-null    object \n",
      " 6   size        244 non-null    int64  \n",
      "dtypes: float64(2), int64(1), object(4)\n",
      "memory usage: 15.2+ KB\n"
     ]
    }
   ],
   "source": [
    "tips.info()"
   ]
  },
  {
   "cell_type": "code",
   "execution_count": 347,
   "id": "16e8c5ce",
   "metadata": {},
   "outputs": [
    {
     "data": {
      "text/plain": [
       "[('sex', 'smoker'),\n",
       " ('sex', 'day'),\n",
       " ('sex', 'time'),\n",
       " ('sex', 'size'),\n",
       " ('smoker', 'day'),\n",
       " ('smoker', 'time'),\n",
       " ('smoker', 'size'),\n",
       " ('day', 'time'),\n",
       " ('day', 'size'),\n",
       " ('time', 'size')]"
      ]
     },
     "execution_count": 347,
     "metadata": {},
     "output_type": "execute_result"
    }
   ],
   "source": [
    "import itertools\n",
    "categories = ['sex','smoker','day','time','size']\n",
    "tips_categorical = tips[categories]\n",
    "tips_categorical\n",
    "\n",
    "combinations = list(itertools.combinations(categories,2))\n",
    "combinations\n",
    "# create a list of combinations\n",
    "# outcomes = []\n",
    "# for combination in combinations:\n",
    "# outcome = {}\n",
    "# pull combo indexes out\n"
   ]
  },
  {
   "cell_type": "code",
   "execution_count": 348,
   "id": "da9bfa34",
   "metadata": {},
   "outputs": [
    {
     "data": {
      "text/html": [
       "<div>\n",
       "<style scoped>\n",
       "    .dataframe tbody tr th:only-of-type {\n",
       "        vertical-align: middle;\n",
       "    }\n",
       "\n",
       "    .dataframe tbody tr th {\n",
       "        vertical-align: top;\n",
       "    }\n",
       "\n",
       "    .dataframe thead th {\n",
       "        text-align: right;\n",
       "    }\n",
       "</style>\n",
       "<table border=\"1\" class=\"dataframe\">\n",
       "  <thead>\n",
       "    <tr style=\"text-align: right;\">\n",
       "      <th></th>\n",
       "      <th>column1</th>\n",
       "      <th>column2</th>\n",
       "      <th>p</th>\n",
       "      <th>reject_null</th>\n",
       "    </tr>\n",
       "  </thead>\n",
       "  <tbody>\n",
       "    <tr>\n",
       "      <th>0</th>\n",
       "      <td>sex</td>\n",
       "      <td>smoker</td>\n",
       "      <td>1.000000e+00</td>\n",
       "      <td>False</td>\n",
       "    </tr>\n",
       "    <tr>\n",
       "      <th>1</th>\n",
       "      <td>sex</td>\n",
       "      <td>day</td>\n",
       "      <td>4.180302e-03</td>\n",
       "      <td>True</td>\n",
       "    </tr>\n",
       "    <tr>\n",
       "      <th>2</th>\n",
       "      <td>sex</td>\n",
       "      <td>time</td>\n",
       "      <td>2.237400e-03</td>\n",
       "      <td>True</td>\n",
       "    </tr>\n",
       "    <tr>\n",
       "      <th>3</th>\n",
       "      <td>sex</td>\n",
       "      <td>size</td>\n",
       "      <td>3.217222e-01</td>\n",
       "      <td>False</td>\n",
       "    </tr>\n",
       "    <tr>\n",
       "      <th>4</th>\n",
       "      <td>smoker</td>\n",
       "      <td>day</td>\n",
       "      <td>1.056757e-05</td>\n",
       "      <td>True</td>\n",
       "    </tr>\n",
       "    <tr>\n",
       "      <th>5</th>\n",
       "      <td>smoker</td>\n",
       "      <td>time</td>\n",
       "      <td>4.771486e-01</td>\n",
       "      <td>False</td>\n",
       "    </tr>\n",
       "    <tr>\n",
       "      <th>6</th>\n",
       "      <td>smoker</td>\n",
       "      <td>size</td>\n",
       "      <td>3.402489e-01</td>\n",
       "      <td>False</td>\n",
       "    </tr>\n",
       "    <tr>\n",
       "      <th>7</th>\n",
       "      <td>day</td>\n",
       "      <td>time</td>\n",
       "      <td>8.449898e-47</td>\n",
       "      <td>True</td>\n",
       "    </tr>\n",
       "    <tr>\n",
       "      <th>8</th>\n",
       "      <td>day</td>\n",
       "      <td>size</td>\n",
       "      <td>1.331648e-02</td>\n",
       "      <td>True</td>\n",
       "    </tr>\n",
       "    <tr>\n",
       "      <th>9</th>\n",
       "      <td>time</td>\n",
       "      <td>size</td>\n",
       "      <td>7.595297e-03</td>\n",
       "      <td>True</td>\n",
       "    </tr>\n",
       "  </tbody>\n",
       "</table>\n",
       "</div>"
      ],
      "text/plain": [
       "  column1 column2             p  reject_null\n",
       "0     sex  smoker  1.000000e+00        False\n",
       "1     sex     day  4.180302e-03         True\n",
       "2     sex    time  2.237400e-03         True\n",
       "3     sex    size  3.217222e-01        False\n",
       "4  smoker     day  1.056757e-05         True\n",
       "5  smoker    time  4.771486e-01        False\n",
       "6  smoker    size  3.402489e-01        False\n",
       "7     day    time  8.449898e-47         True\n",
       "8     day    size  1.331648e-02         True\n",
       "9    time    size  7.595297e-03         True"
      ]
     },
     "execution_count": 348,
     "metadata": {},
     "output_type": "execute_result"
    }
   ],
   "source": [
    "alpha = .05\n",
    "outcomes = []\n",
    "for combination in combinations:\n",
    "    outcome = {}\n",
    "    outcome['column1'] = combination[0]\n",
    "    outcome['column2'] = combination[1]\n",
    "    observed = pd.crosstab(tips[combination[0]],tips[combination[1]])\n",
    "    chi2, p, degf, expected = stats.chi2_contingency(observed)\n",
    "    outcome['p'] = p\n",
    "    \n",
    "    if p < alpha:\n",
    "        outcome['reject_null'] = True\n",
    "    else:\n",
    "        outcome['reject_null'] = False\n",
    "    \n",
    "    outcomes.append(outcome)\n",
    "pd.DataFrame(outcomes)"
   ]
  },
  {
   "cell_type": "code",
   "execution_count": 352,
   "id": "c910b2ad",
   "metadata": {},
   "outputs": [
    {
     "data": {
      "text/html": [
       "<div>\n",
       "<style scoped>\n",
       "    .dataframe tbody tr th:only-of-type {\n",
       "        vertical-align: middle;\n",
       "    }\n",
       "\n",
       "    .dataframe tbody tr th {\n",
       "        vertical-align: top;\n",
       "    }\n",
       "\n",
       "    .dataframe thead th {\n",
       "        text-align: right;\n",
       "    }\n",
       "</style>\n",
       "<table border=\"1\" class=\"dataframe\">\n",
       "  <thead>\n",
       "    <tr style=\"text-align: right;\">\n",
       "      <th></th>\n",
       "      <th>smoker</th>\n",
       "      <th>sex</th>\n",
       "    </tr>\n",
       "  </thead>\n",
       "  <tbody>\n",
       "    <tr>\n",
       "      <th>1</th>\n",
       "      <td>No</td>\n",
       "      <td>Female</td>\n",
       "    </tr>\n",
       "    <tr>\n",
       "      <th>2</th>\n",
       "      <td>No</td>\n",
       "      <td>Male</td>\n",
       "    </tr>\n",
       "    <tr>\n",
       "      <th>3</th>\n",
       "      <td>No</td>\n",
       "      <td>Male</td>\n",
       "    </tr>\n",
       "    <tr>\n",
       "      <th>4</th>\n",
       "      <td>No</td>\n",
       "      <td>Male</td>\n",
       "    </tr>\n",
       "    <tr>\n",
       "      <th>5</th>\n",
       "      <td>No</td>\n",
       "      <td>Female</td>\n",
       "    </tr>\n",
       "    <tr>\n",
       "      <th>...</th>\n",
       "      <td>...</td>\n",
       "      <td>...</td>\n",
       "    </tr>\n",
       "    <tr>\n",
       "      <th>240</th>\n",
       "      <td>No</td>\n",
       "      <td>Male</td>\n",
       "    </tr>\n",
       "    <tr>\n",
       "      <th>241</th>\n",
       "      <td>Yes</td>\n",
       "      <td>Female</td>\n",
       "    </tr>\n",
       "    <tr>\n",
       "      <th>242</th>\n",
       "      <td>Yes</td>\n",
       "      <td>Male</td>\n",
       "    </tr>\n",
       "    <tr>\n",
       "      <th>243</th>\n",
       "      <td>No</td>\n",
       "      <td>Male</td>\n",
       "    </tr>\n",
       "    <tr>\n",
       "      <th>244</th>\n",
       "      <td>No</td>\n",
       "      <td>Female</td>\n",
       "    </tr>\n",
       "  </tbody>\n",
       "</table>\n",
       "<p>244 rows × 2 columns</p>\n",
       "</div>"
      ],
      "text/plain": [
       "    smoker     sex\n",
       "1       No  Female\n",
       "2       No    Male\n",
       "3       No    Male\n",
       "4       No    Male\n",
       "5       No  Female\n",
       "..     ...     ...\n",
       "240     No    Male\n",
       "241    Yes  Female\n",
       "242    Yes    Male\n",
       "243     No    Male\n",
       "244     No  Female\n",
       "\n",
       "[244 rows x 2 columns]"
      ]
     },
     "execution_count": 352,
     "metadata": {},
     "output_type": "execute_result"
    }
   ],
   "source": [
    "tips[['smoker','sex']]"
   ]
  }
 ],
 "metadata": {
  "kernelspec": {
   "display_name": "Python 3 (ipykernel)",
   "language": "python",
   "name": "python3"
  },
  "language_info": {
   "codemirror_mode": {
    "name": "ipython",
    "version": 3
   },
   "file_extension": ".py",
   "mimetype": "text/x-python",
   "name": "python",
   "nbconvert_exporter": "python",
   "pygments_lexer": "ipython3",
   "version": "3.9.7"
  }
 },
 "nbformat": 4,
 "nbformat_minor": 5
}
