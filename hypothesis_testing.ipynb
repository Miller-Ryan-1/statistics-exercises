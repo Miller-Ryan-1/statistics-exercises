{
 "cells": [
  {
   "cell_type": "markdown",
   "id": "da669ed3",
   "metadata": {},
   "source": [
    "## I. For each of the following questions, formulate a null and alternative hypothesis (be as specific as you can be), then give an example of what a true positive, true negative, type I and type II errors would look like. Note that some of the questions are intentionally phrased in a vague way. It is your job to reword these as more precise questions that could be tested."
   ]
  },
  {
   "cell_type": "markdown",
   "id": "6c36f9cc",
   "metadata": {},
   "source": [
    "### 1. Has the network latency gone up since we switched internet service providers?"
   ]
  },
  {
   "cell_type": "markdown",
   "id": "2eb88e10",
   "metadata": {},
   "source": [
    "#### Restated:\n",
    "Has network latency (in time) increased with the new ISP?\n",
    "#### H0 (null hypothesis) =\n",
    "Network latency with the new ISP is the same or less than the old ISP.\n",
    "#### Ha (alt.hypothesis) = \n",
    "Network latency is greater with the new ISP.\n",
    "#### True positive example:\n",
    "Network latency is greater with the new ISP, and our hypothesis testing rejects H0.\n",
    "#### True negative example:\n",
    "Network latency is the same between the two, and our hypothesis testing accepts H0.\n",
    "#### Type I error (false pos.) example:\n",
    "Network latency is the same, but we reject the H0 and say the new one is longer.\n",
    "#### Type II error (false neg.) example:\n",
    "Network latency is greater with the new ISP, but we accept H0 (that they are the same or its decreased)."
   ]
  },
  {
   "cell_type": "markdown",
   "id": "c64af3a5",
   "metadata": {},
   "source": [
    "### 2. Is the website redesign any good?"
   ]
  },
  {
   "cell_type": "markdown",
   "id": "c2ae0b33",
   "metadata": {},
   "source": [
    "#### Restated:\n",
    "Is the new website design leading to more sales?\n",
    "#### H0 (null hypothesis) =\n",
    "Sales rates and metrics related to the website are the same for both designs.\n",
    "#### Ha (alt.hypothesis) = \n",
    "Sales rates and metrics related to the website are greater for new design.\n",
    "#### True positive example:\n",
    "Sales rates and metrics related to the website are up and we rejected the H0.\n",
    "#### True negative example:\n",
    "Sales rates and metrics related to the website haven't changed, and we've accepted the H0 (that they wouldn't).\n",
    "#### Type I error (false pos.) example:\n",
    "Sales rates and metrics related to the website haven't changed, but we reject the H0 and say they are greater.\n",
    "#### Type II error (false neg.) example:\n",
    "Sales rates and metrics related to the website have improved, but we accept the H0 thinking they haven't."
   ]
  },
  {
   "cell_type": "markdown",
   "id": "226b8abe",
   "metadata": {},
   "source": [
    "### 3. Is our television ad driving more sales?"
   ]
  },
  {
   "cell_type": "markdown",
   "id": "40aef516",
   "metadata": {},
   "source": [
    "#### Restated:\n",
    "During the time and in the markets where our television ad plays, have sales increased compared to other markets and times without the ad?\n",
    "#### H0 (null hypothesis) =\n",
    "Sales are no different between the markets and times where the ad plays, and where it does not.\n",
    "#### Ha (alt.hypothesis) = \n",
    "Sales are different between the markets and times where the ad plays, and where it does not.\n",
    "#### True positive example:\n",
    "When/where the ad plays sales go up, and we have rejected H0.\n",
    "#### True negative example:\n",
    "When/where the ad plays sales are no different than elsewhere, and we have accepted H0.\n",
    "#### Type I error (false pos.) example:\n",
    "When/where the ad plays sales are no different than elsewhere, but we reject the H0 and say sales are better.\n",
    "#### Type II error (false neg.) example:\n",
    "When/where the ad plays sales go up, but we accept H0 (that they are the same)."
   ]
  },
  {
   "cell_type": "markdown",
   "id": "09b2e3ad",
   "metadata": {},
   "source": [
    "## II. t-tests"
   ]
  },
  {
   "cell_type": "code",
   "execution_count": 2,
   "id": "cd5bf0eb",
   "metadata": {},
   "outputs": [],
   "source": [
    "import numpy as np\n",
    "import seaborn as sns\n",
    "import scipy.stats as stats\n",
    "import pandas as pd\n",
    "import matplotlib.pyplot as plt\n",
    "import env"
   ]
  },
  {
   "cell_type": "markdown",
   "id": "5a102fb1",
   "metadata": {},
   "source": [
    "### 4. Ace Realty wants to determine whether the average time it takes to sell homes is different for its two offices. A sample of 40 sales from office #1 revealed a mean of 90 days and a standard deviation of 15 days. A sample of 50 sales from office #2 revealed a mean of 100 days and a standard deviation of 20 days. Use a .05 level of significance."
   ]
  },
  {
   "cell_type": "code",
   "execution_count": 15,
   "id": "d83633e7",
   "metadata": {},
   "outputs": [
    {
     "data": {
      "text/plain": [
       "0.00405603135173008"
      ]
     },
     "execution_count": 15,
     "metadata": {},
     "output_type": "execute_result"
    }
   ],
   "source": [
    "office1_mean = 90\n",
    "office1_sdev = 15\n",
    "office1_n = 40\n",
    "\n",
    "office2_mean = 100\n",
    "office2_sdev = 20\n",
    "office2_n = 50\n",
    "\n",
    "office1 = np.random.normal(office1_mean, office1_sdev, office1_n)\n",
    "office2 = np.random.normal(office2_mean, office2_sdev, office2_n)\n",
    "\n",
    "alpha = .05\n",
    "\n",
    "#30+ samples, independant, test variances:\n",
    "office1.var(), office2.var()\n",
    "#unequal variances\n",
    "\n",
    "#H0 - There is no differnce in time.\n",
    "#Ha - There is a difference in time.\n",
    "#Two sided t-test\n",
    "\n",
    "t,p = stats.ttest_ind_from_stats(office1_mean, office1_sdev, office1_n, office2_mean, office2_sdev, office2_n, equal_var = False)\n",
    "p/2\n",
    "\n",
    "# p < alpha, therefore we reject the null hypothesis"
   ]
  },
  {
   "cell_type": "markdown",
   "id": "2068eecb",
   "metadata": {},
   "source": [
    "### 5. From pydataset use 'mpg'"
   ]
  },
  {
   "cell_type": "code",
   "execution_count": 16,
   "id": "0e497f00",
   "metadata": {},
   "outputs": [],
   "source": [
    "from pydataset import data\n",
    "mpg = data('mpg')"
   ]
  },
  {
   "cell_type": "markdown",
   "id": "3339f760",
   "metadata": {},
   "source": [
    "#### (5a) Is there a difference in fuel-efficiency in cars from 2008 vs 1999?"
   ]
  },
  {
   "cell_type": "code",
   "execution_count": 35,
   "id": "46d36c1b",
   "metadata": {},
   "outputs": [
    {
     "data": {
      "text/html": [
       "<div>\n",
       "<style scoped>\n",
       "    .dataframe tbody tr th:only-of-type {\n",
       "        vertical-align: middle;\n",
       "    }\n",
       "\n",
       "    .dataframe tbody tr th {\n",
       "        vertical-align: top;\n",
       "    }\n",
       "\n",
       "    .dataframe thead th {\n",
       "        text-align: right;\n",
       "    }\n",
       "</style>\n",
       "<table border=\"1\" class=\"dataframe\">\n",
       "  <thead>\n",
       "    <tr style=\"text-align: right;\">\n",
       "      <th></th>\n",
       "      <th>manufacturer</th>\n",
       "      <th>model</th>\n",
       "      <th>displ</th>\n",
       "      <th>year</th>\n",
       "      <th>cyl</th>\n",
       "      <th>trans</th>\n",
       "      <th>drv</th>\n",
       "      <th>cty</th>\n",
       "      <th>hwy</th>\n",
       "      <th>fl</th>\n",
       "      <th>class</th>\n",
       "      <th>efficiency</th>\n",
       "    </tr>\n",
       "  </thead>\n",
       "  <tbody>\n",
       "    <tr>\n",
       "      <th>1</th>\n",
       "      <td>audi</td>\n",
       "      <td>a4</td>\n",
       "      <td>1.8</td>\n",
       "      <td>1999</td>\n",
       "      <td>4</td>\n",
       "      <td>auto(l5)</td>\n",
       "      <td>f</td>\n",
       "      <td>18</td>\n",
       "      <td>29</td>\n",
       "      <td>p</td>\n",
       "      <td>compact</td>\n",
       "      <td>23.5</td>\n",
       "    </tr>\n",
       "    <tr>\n",
       "      <th>2</th>\n",
       "      <td>audi</td>\n",
       "      <td>a4</td>\n",
       "      <td>1.8</td>\n",
       "      <td>1999</td>\n",
       "      <td>4</td>\n",
       "      <td>manual(m5)</td>\n",
       "      <td>f</td>\n",
       "      <td>21</td>\n",
       "      <td>29</td>\n",
       "      <td>p</td>\n",
       "      <td>compact</td>\n",
       "      <td>25.0</td>\n",
       "    </tr>\n",
       "    <tr>\n",
       "      <th>3</th>\n",
       "      <td>audi</td>\n",
       "      <td>a4</td>\n",
       "      <td>2.0</td>\n",
       "      <td>2008</td>\n",
       "      <td>4</td>\n",
       "      <td>manual(m6)</td>\n",
       "      <td>f</td>\n",
       "      <td>20</td>\n",
       "      <td>31</td>\n",
       "      <td>p</td>\n",
       "      <td>compact</td>\n",
       "      <td>25.5</td>\n",
       "    </tr>\n",
       "    <tr>\n",
       "      <th>4</th>\n",
       "      <td>audi</td>\n",
       "      <td>a4</td>\n",
       "      <td>2.0</td>\n",
       "      <td>2008</td>\n",
       "      <td>4</td>\n",
       "      <td>auto(av)</td>\n",
       "      <td>f</td>\n",
       "      <td>21</td>\n",
       "      <td>30</td>\n",
       "      <td>p</td>\n",
       "      <td>compact</td>\n",
       "      <td>25.5</td>\n",
       "    </tr>\n",
       "    <tr>\n",
       "      <th>5</th>\n",
       "      <td>audi</td>\n",
       "      <td>a4</td>\n",
       "      <td>2.8</td>\n",
       "      <td>1999</td>\n",
       "      <td>6</td>\n",
       "      <td>auto(l5)</td>\n",
       "      <td>f</td>\n",
       "      <td>16</td>\n",
       "      <td>26</td>\n",
       "      <td>p</td>\n",
       "      <td>compact</td>\n",
       "      <td>21.0</td>\n",
       "    </tr>\n",
       "  </tbody>\n",
       "</table>\n",
       "</div>"
      ],
      "text/plain": [
       "  manufacturer model  displ  year  cyl       trans drv  cty  hwy fl    class  \\\n",
       "1         audi    a4    1.8  1999    4    auto(l5)   f   18   29  p  compact   \n",
       "2         audi    a4    1.8  1999    4  manual(m5)   f   21   29  p  compact   \n",
       "3         audi    a4    2.0  2008    4  manual(m6)   f   20   31  p  compact   \n",
       "4         audi    a4    2.0  2008    4    auto(av)   f   21   30  p  compact   \n",
       "5         audi    a4    2.8  1999    6    auto(l5)   f   16   26  p  compact   \n",
       "\n",
       "   efficiency  \n",
       "1        23.5  \n",
       "2        25.0  \n",
       "3        25.5  \n",
       "4        25.5  \n",
       "5        21.0  "
      ]
     },
     "execution_count": 35,
     "metadata": {},
     "output_type": "execute_result"
    }
   ],
   "source": [
    "mpg.head()"
   ]
  },
  {
   "cell_type": "code",
   "execution_count": 27,
   "id": "daebd21b",
   "metadata": {},
   "outputs": [
    {
     "data": {
      "text/plain": [
       "(117, 117)"
      ]
     },
     "execution_count": 27,
     "metadata": {},
     "output_type": "execute_result"
    }
   ],
   "source": [
    "cars_2008 = mpg[mpg.year == 2008].efficiency\n",
    "cars_1999 = mpg[mpg.year == 1999].efficiency\n",
    "cars_1999.count(), cars_2008.count()"
   ]
  },
  {
   "cell_type": "code",
   "execution_count": 31,
   "id": "066a2d3b",
   "metadata": {},
   "outputs": [
    {
     "data": {
      "text/plain": [
       "(20.076923076923077, 20.22222222222222, 4.90891842528482, 5.207936766511732)"
      ]
     },
     "execution_count": 31,
     "metadata": {},
     "output_type": "execute_result"
    }
   ],
   "source": [
    "#n = 117 for both so can assume normalcy.  Lets check descriptive stats:\n",
    "cars_2008.mean(), cars_1999.mean(), cars_2008.std(), cars_1999.std()"
   ]
  },
  {
   "cell_type": "code",
   "execution_count": 33,
   "id": "07ec07d2",
   "metadata": {},
   "outputs": [
    {
     "data": {
      "text/plain": [
       "(-0.21960177245940962, 0.8263744040323578)"
      ]
     },
     "execution_count": 33,
     "metadata": {},
     "output_type": "execute_result"
    }
   ],
   "source": [
    "t,p = stats.ttest_ind_from_stats(cars_2008.mean(), cars_2008.std(), cars_2008.count(), cars_1999.mean(), cars_1999.std(), cars_1999.count(), equal_var = True)\n",
    "t, p"
   ]
  },
  {
   "cell_type": "markdown",
   "id": "44d297dd",
   "metadata": {},
   "source": [
    "We do not reject the null hypothesis that there is no difference in fuel econ between 1999 and 2008"
   ]
  },
  {
   "cell_type": "markdown",
   "id": "5037bfb3",
   "metadata": {},
   "source": [
    "#### (5b) Are compact cars more fuel-efficient than the average car?"
   ]
  },
  {
   "cell_type": "code",
   "execution_count": 40,
   "id": "1850b0de",
   "metadata": {},
   "outputs": [
    {
     "data": {
      "text/plain": [
       "array(['compact', 'midsize', 'suv', '2seater', 'minivan', 'pickup',\n",
       "       'subcompact'], dtype=object)"
      ]
     },
     "execution_count": 40,
     "metadata": {},
     "output_type": "execute_result"
    }
   ],
   "source": [
    "mpg['class'].unique()"
   ]
  },
  {
   "cell_type": "code",
   "execution_count": 44,
   "id": "7e6e0762",
   "metadata": {},
   "outputs": [
    {
     "data": {
      "text/plain": [
       "count    234.000000\n",
       "mean      20.149573\n",
       "std        5.050290\n",
       "min       10.500000\n",
       "25%       15.500000\n",
       "50%       20.500000\n",
       "75%       23.500000\n",
       "max       39.500000\n",
       "Name: efficiency, dtype: float64"
      ]
     },
     "execution_count": 44,
     "metadata": {},
     "output_type": "execute_result"
    }
   ],
   "source": [
    "cars_compact = mpg[mpg['class'] == 'compact'].efficiency\n",
    "cars = mpg.efficiency\n",
    "cars_compact. describe()\n",
    "cars.describe()"
   ]
  },
  {
   "cell_type": "code",
   "execution_count": 46,
   "id": "e5407ead",
   "metadata": {},
   "outputs": [
    {
     "data": {
      "text/plain": [
       "(6.646345489688162, 2.3577939603784718e-09)"
      ]
     },
     "execution_count": 46,
     "metadata": {},
     "output_type": "execute_result"
    }
   ],
   "source": [
    "t,p = stats.ttest_ind_from_stats(cars_compact.mean(), cars_compact.std(), cars_compact.count(), cars.mean(), cars.std(), cars.count(), equal_var = False)\n",
    "t, p"
   ]
  },
  {
   "cell_type": "markdown",
   "id": "268a6246",
   "metadata": {},
   "source": [
    "We reject the null hypothesis that compact cars have the same fuel economy as the average car (compact inclusive)."
   ]
  },
  {
   "cell_type": "markdown",
   "id": "6ac3e1a9",
   "metadata": {},
   "source": [
    "#### (5c) Do manual cars get better gas mileage than automatic cars?"
   ]
  },
  {
   "cell_type": "code",
   "execution_count": 48,
   "id": "3dbb7390",
   "metadata": {},
   "outputs": [
    {
     "data": {
      "text/plain": [
       "array(['auto(l5)', 'manual(m5)', 'manual(m6)', 'auto(av)', 'auto(s6)',\n",
       "       'auto(l4)', 'auto(l3)', 'auto(l6)', 'auto(s5)', 'auto(s4)'],\n",
       "      dtype=object)"
      ]
     },
     "execution_count": 48,
     "metadata": {},
     "output_type": "execute_result"
    }
   ],
   "source": [
    "mpg['trans'].unique()"
   ]
  },
  {
   "cell_type": "code",
   "execution_count": 56,
   "id": "ec0a1b8a",
   "metadata": {},
   "outputs": [
    {
     "data": {
      "text/plain": [
       "(-4.443514012903071, 1.795224899991793e-05)"
      ]
     },
     "execution_count": 56,
     "metadata": {},
     "output_type": "execute_result"
    }
   ],
   "source": [
    "cars_auto = mpg[mpg['trans'].str.contains('auto')].efficiency\n",
    "cars_man = mpg[mpg['trans'].str.contains('manual')].efficiency\n",
    "\n",
    "t,p = stats.ttest_ind_from_stats(cars_auto.mean(), cars_auto.std(), cars_auto.count(), cars_man.mean(), cars_man.std(), cars_man.count(), equal_var = False)\n",
    "t, p"
   ]
  },
  {
   "cell_type": "code",
   "execution_count": 57,
   "id": "107c1016",
   "metadata": {},
   "outputs": [
    {
     "data": {
      "text/plain": [
       "(19.130573248407643, 22.227272727272727)"
      ]
     },
     "execution_count": 57,
     "metadata": {},
     "output_type": "execute_result"
    }
   ],
   "source": [
    "cars_auto.mean(), cars_man.mean()"
   ]
  },
  {
   "cell_type": "markdown",
   "id": "dd21ddab",
   "metadata": {},
   "source": [
    "We reject the null hypothesis that manual and automatic cars get the same gas mileage."
   ]
  }
 ],
 "metadata": {
  "kernelspec": {
   "display_name": "Python 3 (ipykernel)",
   "language": "python",
   "name": "python3"
  },
  "language_info": {
   "codemirror_mode": {
    "name": "ipython",
    "version": 3
   },
   "file_extension": ".py",
   "mimetype": "text/x-python",
   "name": "python",
   "nbconvert_exporter": "python",
   "pygments_lexer": "ipython3",
   "version": "3.9.7"
  }
 },
 "nbformat": 4,
 "nbformat_minor": 5
}
