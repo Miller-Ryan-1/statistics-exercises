{
 "cells": [
  {
   "cell_type": "code",
   "execution_count": 241,
   "id": "c2a86dbe",
   "metadata": {},
   "outputs": [],
   "source": [
    "import numpy as np\n",
    "import pandas as pd\n",
    "\n",
    "import viz # curriculum example visualizations\n",
    "\n",
    "np.random.seed(21)"
   ]
  },
  {
   "cell_type": "markdown",
   "id": "e18abef7",
   "metadata": {},
   "source": [
    "### 1. How likely is it that you roll doubles when rolling two dice?"
   ]
  },
  {
   "cell_type": "code",
   "execution_count": 31,
   "id": "2dfe3e17",
   "metadata": {},
   "outputs": [
    {
     "data": {
      "text/plain": [
       "0.16668"
      ]
     },
     "execution_count": 31,
     "metadata": {},
     "output_type": "execute_result"
    }
   ],
   "source": [
    "n1_trials = n1_rows = 10**5\n",
    "n1_dice = n1_cols = 2\n",
    "\n",
    "rolls1 = np.random.choice([1,2,3,4,5,6], n1_trials * n1_dice).reshape(n1_rows,n1_cols)\n",
    "\n",
    "doubles_count = pd.DataFrame(rolls1).apply(lambda row: row[0] == row[1], axis = 1).sum()\n",
    "\n",
    "prob_of_doubles = doubles_count / n1_rows\n",
    "prob_of_doubles"
   ]
  },
  {
   "cell_type": "markdown",
   "id": "c804cd8d",
   "metadata": {},
   "source": [
    "ANS: The probability is 16.67% (1 in 6)"
   ]
  },
  {
   "cell_type": "markdown",
   "id": "3b1bc192",
   "metadata": {},
   "source": [
    "### 2. If you flip 8 coins, what is the probability of getting exactly 3 heads? What is the probability of getting more than 3 heads?"
   ]
  },
  {
   "cell_type": "code",
   "execution_count": 41,
   "id": "0e819dce",
   "metadata": {},
   "outputs": [
    {
     "data": {
      "text/plain": [
       "0.21913"
      ]
     },
     "execution_count": 41,
     "metadata": {},
     "output_type": "execute_result"
    }
   ],
   "source": [
    "n2_trials = n2_rows = 10**5\n",
    "n2_coins = n2_cols = 8\n",
    "\n",
    "#Will set up the binary options as heads = 1, tails = 0\n",
    "flips2 = np.random.choice([0,1],n2_trials * n2_coins).reshape(n2_rows,n2_cols)\n",
    "\n",
    "sums_of_flips = flips2.sum(axis=1)\n",
    "\n",
    "exactly_3_heads = (sums_of_flips == 3).sum()\n",
    "exactly_3_heads/n2_rows"
   ]
  },
  {
   "cell_type": "markdown",
   "id": "83f16650",
   "metadata": {},
   "source": [
    "You will get exactly 3 heads 21.9% of the time."
   ]
  },
  {
   "cell_type": "code",
   "execution_count": 40,
   "id": "7170cbd7",
   "metadata": {},
   "outputs": [
    {
     "data": {
      "text/plain": [
       "0.63598"
      ]
     },
     "execution_count": 40,
     "metadata": {},
     "output_type": "execute_result"
    }
   ],
   "source": [
    "more_than_3_heads = (sums_of_flips > 3).sum() \n",
    "more_than_3_heads/n2_rows"
   ]
  },
  {
   "cell_type": "markdown",
   "id": "ea46b265",
   "metadata": {},
   "source": [
    "You will get more than 3 heads 63.6% of the time."
   ]
  },
  {
   "cell_type": "markdown",
   "id": "df225e01",
   "metadata": {},
   "source": [
    "### 3. There are approximitely 3 web development cohorts for every 1 data science cohort at Codeup. Assuming that Codeup randomly selects an alumni to put on a billboard, what are the odds that the two billboards I drive past both have data science students on them?"
   ]
  },
  {
   "cell_type": "code",
   "execution_count": 55,
   "id": "03835bd7",
   "metadata": {},
   "outputs": [
    {
     "data": {
      "text/plain": [
       "0.06235"
      ]
     },
     "execution_count": 55,
     "metadata": {},
     "output_type": "execute_result"
    }
   ],
   "source": [
    "n3_trials = n3_rows = 10**5\n",
    "n3_boards = n3_cols = 2\n",
    "\n",
    "#Assuming all cohorts are the same size:\n",
    "p_ds = .25\n",
    "\n",
    "n3_data = np.random.random((n3_rows, n3_cols))\n",
    "n3_results = ((n3_data < p_ds).sum(axis = 1)) == 2\n",
    "n3_results.sum()/n3_rows"
   ]
  },
  {
   "cell_type": "markdown",
   "id": "98b63ec2",
   "metadata": {},
   "source": [
    "The odds of passing two data science alum billboards is 6.24%."
   ]
  },
  {
   "cell_type": "markdown",
   "id": "d4b51d2b",
   "metadata": {},
   "source": [
    "### 4. Codeup students buy, on average, 3 poptart packages with a standard deviation of 1.5 a day from the snack vending machine. If on monday the machine is restocked with 17 poptart packages, how likely is it that I will be able to buy some poptarts on Friday afternoon? (Remember, if you have mean and standard deviation, use the np.random.normal)"
   ]
  },
  {
   "cell_type": "code",
   "execution_count": 203,
   "id": "820a5d30",
   "metadata": {},
   "outputs": [
    {
     "data": {
      "text/plain": [
       "0.72548"
      ]
     },
     "execution_count": 203,
     "metadata": {},
     "output_type": "execute_result"
    }
   ],
   "source": [
    "n4_trials = n4_rows = 10**5\n",
    "# columns = 5, for 5 days from Monday to Friday.\n",
    "#Assume they load first thing Monday morning, the draw is the last draw of the week before restock the following Monday, and that it is always stocked to 17.\n",
    "\n",
    "poptarts = np.random.normal(3,1.5,(n4_rows,5))\n",
    "still_tartin = (poptarts.sum(axis=1) < 17).sum()\n",
    "still_tartin/n4_rows\n"
   ]
  },
  {
   "cell_type": "markdown",
   "id": "c3bd2dc5",
   "metadata": {},
   "source": [
    "You will be able to pop that tart on 72.2% of Friday afternoons."
   ]
  },
  {
   "cell_type": "markdown",
   "id": "27d842c4",
   "metadata": {},
   "source": [
    "### 5. Men have an average height of 178 cm and standard deviation of 8cm. Women have a mean of 170, sd = 6cm. Since you have means and standard deviations, you can use np.random.normal to generate observations.  If a man and woman are chosen at random, what is the likelihood the woman is taller than the man?"
   ]
  },
  {
   "cell_type": "code",
   "execution_count": 77,
   "id": "b157ad99",
   "metadata": {},
   "outputs": [
    {
     "data": {
      "text/plain": [
       "0.21146"
      ]
     },
     "execution_count": 77,
     "metadata": {},
     "output_type": "execute_result"
    }
   ],
   "source": [
    "n5_trials = n5_rows = 10**5\n",
    "\n",
    "tallness = np.random.normal([178,170],[8,6],(n5_rows,2))\n",
    "\n",
    "women_taller = pd.DataFrame(tallness).apply(lambda row: row[0] < row[1], axis = 1).sum()\n",
    "women_taller/n5_rows"
   ]
  },
  {
   "cell_type": "markdown",
   "id": "baa5e285",
   "metadata": {},
   "source": [
    "They are likely taller 21% of the time."
   ]
  },
  {
   "cell_type": "markdown",
   "id": "b13878d4",
   "metadata": {},
   "source": [
    "### 6. When installing anaconda on a student's computer, there's a 1 in 250 chance that the download is corrupted and the installation fails. "
   ]
  },
  {
   "cell_type": "code",
   "execution_count": 80,
   "id": "864d2a18",
   "metadata": {},
   "outputs": [],
   "source": [
    "curruption = 1/250"
   ]
  },
  {
   "cell_type": "markdown",
   "id": "f8d872a1",
   "metadata": {},
   "source": [
    "#### (6a) What are the odds that after having 50 students download anaconda, no one has an installation issue? 100 students?"
   ]
  },
  {
   "cell_type": "code",
   "execution_count": 98,
   "id": "ec0cd04e",
   "metadata": {},
   "outputs": [
    {
     "data": {
      "text/plain": [
       "0"
      ]
     },
     "execution_count": 98,
     "metadata": {},
     "output_type": "execute_result"
    }
   ],
   "source": [
    "(np.random.random(50) < curruption).sum()"
   ]
  },
  {
   "cell_type": "code",
   "execution_count": 104,
   "id": "db1c83db",
   "metadata": {},
   "outputs": [
    {
     "data": {
      "text/plain": [
       "0"
      ]
     },
     "execution_count": 104,
     "metadata": {},
     "output_type": "execute_result"
    }
   ],
   "source": [
    "(np.random.random(100) < curruption).sum()"
   ]
  },
  {
   "cell_type": "code",
   "execution_count": 105,
   "id": "c238263d",
   "metadata": {},
   "outputs": [
    {
     "data": {
      "text/plain": [
       "405"
      ]
     },
     "execution_count": 105,
     "metadata": {},
     "output_type": "execute_result"
    }
   ],
   "source": [
    "(np.random.random(100000) < curruption).sum()"
   ]
  },
  {
   "cell_type": "markdown",
   "id": "aaa131bc",
   "metadata": {},
   "source": [
    "I ran this many times.  50 students never showed curruption, and every 8 or 10 runs of the 100 would pop a single curruption.  Running it with 100k to get a decent probability came to 405, or 0.4%."
   ]
  },
  {
   "cell_type": "markdown",
   "id": "1ba21bdb",
   "metadata": {},
   "source": [
    "#### (6b) What is the probability that we observe an installation issue within the first 150 students that download anaconda?"
   ]
  },
  {
   "cell_type": "code",
   "execution_count": 113,
   "id": "24050ea1",
   "metadata": {},
   "outputs": [
    {
     "data": {
      "text/plain": [
       "0.0"
      ]
     },
     "execution_count": 113,
     "metadata": {},
     "output_type": "execute_result"
    }
   ],
   "source": [
    "random_150 = (np.random.random(150) < curruption).sum()"
   ]
  },
  {
   "cell_type": "code",
   "execution_count": 253,
   "id": "dba3d12c",
   "metadata": {},
   "outputs": [
    {
     "data": {
      "text/plain": [
       "0.18093"
      ]
     },
     "execution_count": 253,
     "metadata": {},
     "output_type": "execute_result"
    }
   ],
   "source": [
    "# wasn't satisfied so I simulated the simulation 100k times to see how many produced a curruption:\n",
    "thing = []\n",
    "for i in range(100000):\n",
    "    if ((np.random.random(50) < curruption).sum()) > 0:\n",
    "        thing.append(1)\n",
    "result7b = len(thing)/100000\n",
    "result7b\n"
   ]
  },
  {
   "cell_type": "markdown",
   "id": "05a33d02",
   "metadata": {},
   "source": [
    "This is the way to do these problems."
   ]
  },
  {
   "cell_type": "markdown",
   "id": "9f77a206",
   "metadata": {},
   "source": [
    "#### (6c) How likely is it that 450 students all download anaconda without an issue?"
   ]
  },
  {
   "cell_type": "code",
   "execution_count": 148,
   "id": "ef6403e1",
   "metadata": {},
   "outputs": [
    {
     "data": {
      "text/plain": [
       "0.5511699999999999"
      ]
     },
     "execution_count": 148,
     "metadata": {},
     "output_type": "execute_result"
    }
   ],
   "source": [
    "random_450 = (np.random.random(450) < curruption).sum()\n",
    "random_450\n",
    "\n",
    "thing2 = []\n",
    "for i in range(100000):\n",
    "    if ((np.random.random(450) < curruption).sum()) > 0:\n",
    "        thing2.append(1)\n",
    "1-(len(thing)/100000)"
   ]
  },
  {
   "cell_type": "markdown",
   "id": "72e965f1",
   "metadata": {},
   "source": [
    "55.1%"
   ]
  },
  {
   "cell_type": "markdown",
   "id": "c7051d2c",
   "metadata": {},
   "source": [
    "### 7. There's a 70% chance on any given day that there will be at least one food truck at Travis Park. However, you haven't seen a food truck there in 3 days. How unlikely is this?"
   ]
  },
  {
   "cell_type": "code",
   "execution_count": 162,
   "id": "8645d434",
   "metadata": {},
   "outputs": [
    {
     "data": {
      "text/plain": [
       "0.02662"
      ]
     },
     "execution_count": 162,
     "metadata": {},
     "output_type": "execute_result"
    }
   ],
   "source": [
    "n7_trials = n7_rows = 10**5\n",
    "n7_days = n7_cols = 3\n",
    "p_foodtruck = .7\n",
    "\n",
    "((np.random.random((n7_rows,n7_cols)) > p_foodtruck).sum(axis=1) == 3).sum()/n7_rows"
   ]
  },
  {
   "cell_type": "markdown",
   "id": "35755565",
   "metadata": {},
   "source": [
    "2.67% chance it's not there three days in a row.\n",
    "#### (7b) How likely is it that a food truck will show up sometime this week?"
   ]
  },
  {
   "cell_type": "code",
   "execution_count": 164,
   "id": "fb02c956",
   "metadata": {},
   "outputs": [
    {
     "data": {
      "text/plain": [
       "0.99625"
      ]
     },
     "execution_count": 164,
     "metadata": {},
     "output_type": "execute_result"
    }
   ],
   "source": [
    "n7_days_b = n7_cols_b = 7\n",
    "\n",
    "((np.random.random((n7_rows,n7_cols_b)) < p_foodtruck).sum(axis=1) > 1).sum()/n7_rows"
   ]
  },
  {
   "cell_type": "markdown",
   "id": "8fb06ae3",
   "metadata": {},
   "source": [
    "99.6% chance it will show up"
   ]
  },
  {
   "cell_type": "markdown",
   "id": "4c089f54",
   "metadata": {},
   "source": [
    "### 8. If 23 people are in the same room, what are the odds that two of them share a birthday? What if it's 20 people? 40?"
   ]
  },
  {
   "cell_type": "code",
   "execution_count": 252,
   "id": "f76969b3",
   "metadata": {},
   "outputs": [
    {
     "data": {
      "text/plain": [
       "0.00189"
      ]
     },
     "execution_count": 252,
     "metadata": {},
     "output_type": "execute_result"
    }
   ],
   "source": [
    "n8_rooms = n8_rows = 10**5\n",
    "n8_room = n8_cols = 23\n",
    "p_birthday = 1/365\n",
    "\n",
    "((np.random.random((n8_rows,n8_cols)) < p_birthday).sum(axis = 1) > 1).sum()/n8_rows"
   ]
  },
  {
   "cell_type": "code",
   "execution_count": 264,
   "id": "293c5dca",
   "metadata": {},
   "outputs": [
    {
     "data": {
      "text/plain": [
       "0.50437"
      ]
     },
     "execution_count": 264,
     "metadata": {},
     "output_type": "execute_result"
    }
   ],
   "source": [
    "birthdays = np.random.choice(range(365), (n8_rows * n8_cols)).reshape(n8_rows,n8_cols)\n",
    "birthdays = pd.DataFrame(birthdays)\n",
    "birthdays = birthdays.nunique(axis=1) != n8_cols\n",
    "birthdays.sum()/n8_rows"
   ]
  },
  {
   "cell_type": "code",
   "execution_count": 265,
   "id": "a26843d4",
   "metadata": {},
   "outputs": [
    {
     "data": {
      "text/plain": [
       "0.41295"
      ]
     },
     "execution_count": 265,
     "metadata": {},
     "output_type": "execute_result"
    }
   ],
   "source": [
    "n8_cols = 20\n",
    "birthdays = np.random.choice(range(365), (n8_rows * n8_cols)).reshape(n8_rows,n8_cols)\n",
    "birthdays = pd.DataFrame(birthdays)\n",
    "birthdays = birthdays.nunique(axis=1) != n8_cols\n",
    "birthdays.sum()/n8_rows"
   ]
  },
  {
   "cell_type": "code",
   "execution_count": 266,
   "id": "0c795e36",
   "metadata": {},
   "outputs": [
    {
     "data": {
      "text/plain": [
       "0.89141"
      ]
     },
     "execution_count": 266,
     "metadata": {},
     "output_type": "execute_result"
    }
   ],
   "source": [
    "n8_cols = 40\n",
    "birthdays = np.random.choice(range(365), (n8_rows * n8_cols)).reshape(n8_rows,n8_cols)\n",
    "birthdays = pd.DataFrame(birthdays)\n",
    "birthdays = birthdays.nunique(axis=1) != n8_cols\n",
    "birthdays.sum()/n8_rows"
   ]
  },
  {
   "cell_type": "markdown",
   "id": "debd4c8c",
   "metadata": {},
   "source": [
    "23 people = 1.93%, 20 people = 1.84%, 40 people = 2.07%"
   ]
  },
  {
   "cell_type": "markdown",
   "id": "c240d4dc",
   "metadata": {},
   "source": [
    "### Bonus: Mage Duel"
   ]
  },
  {
   "cell_type": "code",
   "execution_count": 180,
   "id": "7233e9f1",
   "metadata": {},
   "outputs": [
    {
     "data": {
      "text/plain": [
       "(4, 6)"
      ]
     },
     "execution_count": 180,
     "metadata": {},
     "output_type": "execute_result"
    }
   ],
   "source": [
    "#my wizard = 6d4\n",
    "wiz_rolls = [1,2,3,4]\n",
    "wiz_dice = 6\n",
    "#their mage = 4d6\n",
    "mage_rolls = [1,2,3,4,5,6]\n",
    "mage_dice = 4\n",
    "\n",
    "#prediction - wizard expected value = 6*2.5=15; mage = 4*3.5=14 - expect wizard to win 15/29 times\n",
    "\n",
    "duels = 10\n",
    "wiz_wins = 0\n",
    "mage_wins = 0\n",
    "for i in range(duels):\n",
    "    if (np.random.choice(wiz_rolls,wiz_dice).sum() > np.random.choice(mage_rolls,mage_dice).sum()):\n",
    "        wiz_wins += 1\n",
    "    else:\n",
    "        mage_wins += 1\n",
    "wiz_wins,mage_wins"
   ]
  },
  {
   "cell_type": "markdown",
   "id": "909afc87",
   "metadata": {},
   "source": [
    "Running 10 duels usually results in 5,5"
   ]
  },
  {
   "cell_type": "code",
   "execution_count": 193,
   "id": "d628b51c",
   "metadata": {},
   "outputs": [
    {
     "data": {
      "text/plain": [
       "(54189, 45811)"
      ]
     },
     "execution_count": 193,
     "metadata": {},
     "output_type": "execute_result"
    }
   ],
   "source": [
    "duels = 100000\n",
    "wiz_wins = 0\n",
    "mage_wins = 0\n",
    "for i in range(duels):\n",
    "    if (np.random.choice(wiz_rolls,wiz_dice).sum() > np.random.choice(mage_rolls,mage_dice).sum()):\n",
    "        wiz_wins += 1\n",
    "    else:\n",
    "        mage_wins += 1\n",
    "wiz_wins,mage_wins"
   ]
  },
  {
   "cell_type": "code",
   "execution_count": 194,
   "id": "88c0d9bb",
   "metadata": {},
   "outputs": [
    {
     "data": {
      "text/plain": [
       "0.54189"
      ]
     },
     "execution_count": 194,
     "metadata": {},
     "output_type": "execute_result"
    }
   ],
   "source": [
    "wiz_wins/(wiz_wins + mage_wins)"
   ]
  },
  {
   "cell_type": "code",
   "execution_count": 195,
   "id": "aefd4d33",
   "metadata": {},
   "outputs": [
    {
     "data": {
      "text/plain": [
       "0.5172413793103449"
      ]
     },
     "execution_count": 195,
     "metadata": {},
     "output_type": "execute_result"
    }
   ],
   "source": [
    "# Comapring to what I *think* is the theoretical max:\n",
    "15/29"
   ]
  },
  {
   "cell_type": "markdown",
   "id": "e062682c",
   "metadata": {},
   "source": [
    "### Bonus: Chuck-a-Luck"
   ]
  },
  {
   "cell_type": "code",
   "execution_count": 242,
   "id": "fad2f380",
   "metadata": {},
   "outputs": [
    {
     "name": "stdout",
     "output_type": "stream",
     "text": [
      "All three matches happen 0.4707% of rolls; two matches 6.9488%; one match 34.6679%; and no matches 57.9126%\n"
     ]
    }
   ],
   "source": [
    "# Variable: Select a number between 1 and 6:\n",
    "num_pick = np.random.choice([1,2,3,4,5,6])\n",
    "\n",
    "# -$1 outcome: no matches\n",
    "# $0 outcome: 1 match\n",
    "# $1 outcome: 2 matches\n",
    "# $3 outcome: 3 matches\n",
    "\n",
    "#I want to create the model then test it to see that all numbers have the same odds when run a bunch of times.\n",
    "\n",
    "chuck_trials = chuck_rows = 10**6\n",
    "chuck_dice = chuck_cols = 3\n",
    "\n",
    "chuck_results = np.random.choice([1,2,3,4,5,6], chuck_rows * chuck_cols).reshape(chuck_rows,chuck_cols)\n",
    "chuck_results\n",
    "\n",
    "match_result = (chuck_results == num_pick).sum(axis=1)\n",
    "\n",
    "three_matches = (match_result == 3).sum()\n",
    "two_matches = (match_result == 2).sum()\n",
    "one_match = (match_result == 1).sum()\n",
    "no_match = (match_result == 0).sum()\n",
    "\n",
    "print(f'All three matches happen {100 * three_matches/chuck_rows}% of rolls; two matches {100 * two_matches/chuck_rows}%; one match {100 * one_match/chuck_rows}%; and no matches {100 * no_match/chuck_rows}%')\n"
   ]
  },
  {
   "cell_type": "code",
   "execution_count": 243,
   "id": "6bdfd954",
   "metadata": {},
   "outputs": [
    {
     "data": {
      "text/plain": [
       "-500224"
      ]
     },
     "execution_count": 243,
     "metadata": {},
     "output_type": "execute_result"
    }
   ],
   "source": [
    "# for i in len(match_result):\n",
    "#     if match_result[i] == 3:\n",
    "#         three_matches += 1\n",
    "#     elif match_result[i] == 2:\n",
    "#         two_matches += 1\n",
    "#     elif match_result[i] == 1:\n",
    "#         one_match += 1\n",
    "#     else:\n",
    "#         no_match += 1\n",
    "\n",
    "total_income = (three_matches * 3) + (two_matches * 2) + (one_match) - chuck_rows\n",
    "total_income"
   ]
  },
  {
   "cell_type": "code",
   "execution_count": 247,
   "id": "b0e0d719",
   "metadata": {},
   "outputs": [],
   "source": [
    "import matplotlib.pyplot as plt"
   ]
  },
  {
   "cell_type": "code",
   "execution_count": 270,
   "id": "acf5964b",
   "metadata": {},
   "outputs": [
    {
     "data": {
      "image/png": "[encoded data removed]",
      "text/plain": [
       "<Figure size 648x432 with 1 Axes>"
      ]
     },
     "metadata": {
      "needs_background": "light"
     },
     "output_type": "display_data"
    }
   ],
   "source": [
    "plt.hist(match_result, bins=[ 0, 1, 2, 3], align = 'left')\n",
    "plt.show()"
   ]
  }
 ],
 "metadata": {
  "kernelspec": {
   "display_name": "Python 3 (ipykernel)",
   "language": "python",
   "name": "python3"
  },
  "language_info": {
   "codemirror_mode": {
    "name": "ipython",
    "version": 3
   },
   "file_extension": ".py",
   "mimetype": "text/x-python",
   "name": "python",
   "nbconvert_exporter": "python",
   "pygments_lexer": "ipython3",
   "version": "3.9.7"
  }
 },
 "nbformat": 4,
 "nbformat_minor": 5
}
