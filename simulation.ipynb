{
 "cells": [
  {
   "cell_type": "code",
   "execution_count": 1,
   "id": "f5026b99",
   "metadata": {},
   "outputs": [],
   "source": [
    "import numpy as np\n",
    "import pandas as pd\n",
    "\n",
    "import viz # curriculum example visualizations\n",
    "\n",
    "np.random.seed(21)"
   ]
  },
  {
   "cell_type": "markdown",
   "id": "55c7b892",
   "metadata": {},
   "source": [
    "### 1. How likely is it that you roll doubles when rolling two dice?"
   ]
  },
  {
   "cell_type": "code",
   "execution_count": 31,
   "id": "82f6f8bc",
   "metadata": {},
   "outputs": [
    {
     "data": {
      "text/plain": [
       "0.16668"
      ]
     },
     "execution_count": 31,
     "metadata": {},
     "output_type": "execute_result"
    }
   ],
   "source": [
    "n1_trials = n1_rows = 10**5\n",
    "n1_dice = n1_cols = 2\n",
    "\n",
    "rolls1 = np.random.choice([1,2,3,4,5,6], n1_trials * n1_dice).reshape(n1_rows,n1_cols)\n",
    "\n",
    "doubles_count = pd.DataFrame(rolls1).apply(lambda row: row[0] == row[1], axis = 1).sum()\n",
    "\n",
    "prob_of_doubles = doubles_count / n1_rows\n",
    "prob_of_doubles"
   ]
  },
  {
   "cell_type": "markdown",
   "id": "4d43c2dc",
   "metadata": {},
   "source": [
    "ANS: The probability is 16.67% (1 in 6)"
   ]
  },
  {
   "cell_type": "markdown",
   "id": "82b167aa",
   "metadata": {},
   "source": [
    "### 2. If you flip 8 coins, what is the probability of getting exactly 3 heads? What is the probability of getting more than 3 heads?"
   ]
  },
  {
   "cell_type": "code",
   "execution_count": 41,
   "id": "86ae82b9",
   "metadata": {},
   "outputs": [
    {
     "data": {
      "text/plain": [
       "0.21913"
      ]
     },
     "execution_count": 41,
     "metadata": {},
     "output_type": "execute_result"
    }
   ],
   "source": [
    "n2_trials = n2_rows = 10**5\n",
    "n2_coins = n2_cols = 8\n",
    "\n",
    "#Will set up the binary options as heads = 1, tails = 0\n",
    "flips2 = np.random.choice([0,1],n2_trials * n2_coins).reshape(n2_rows,n2_cols)\n",
    "\n",
    "sums_of_flips = flips2.sum(axis=1)\n",
    "\n",
    "exactly_3_heads = (sums_of_flips == 3).sum()\n",
    "exactly_3_heads/n2_rows"
   ]
  },
  {
   "cell_type": "markdown",
   "id": "bf2209e7",
   "metadata": {},
   "source": [
    "You will get exactly 3 heads 21.9% of the time."
   ]
  },
  {
   "cell_type": "code",
   "execution_count": 40,
   "id": "a04678f4",
   "metadata": {},
   "outputs": [
    {
     "data": {
      "text/plain": [
       "0.63598"
      ]
     },
     "execution_count": 40,
     "metadata": {},
     "output_type": "execute_result"
    }
   ],
   "source": [
    "more_than_3_heads = (sums_of_flips > 3).sum() \n",
    "more_than_3_heads/n2_rows"
   ]
  },
  {
   "cell_type": "markdown",
   "id": "591f4caf",
   "metadata": {},
   "source": [
    "You will get more than 3 heads 63.6% of the time."
   ]
  },
  {
   "cell_type": "markdown",
   "id": "d6c1fe86",
   "metadata": {},
   "source": [
    "### 3. There are approximitely 3 web development cohorts for every 1 data science cohort at Codeup. Assuming that Codeup randomly selects an alumni to put on a billboard, what are the odds that the two billboards I drive past both have data science students on them?"
   ]
  },
  {
   "cell_type": "code",
   "execution_count": 55,
   "id": "680a7132",
   "metadata": {},
   "outputs": [
    {
     "data": {
      "text/plain": [
       "0.06235"
      ]
     },
     "execution_count": 55,
     "metadata": {},
     "output_type": "execute_result"
    }
   ],
   "source": [
    "n3_trials = n3_rows = 10**5\n",
    "n3_boards = n3_cols = 2\n",
    "\n",
    "#Assuming all cohorts are the same size:\n",
    "p_ds = .25\n",
    "\n",
    "n3_data = np.random.random((n3_rows, n3_cols))\n",
    "n3_results = ((n3_data < p_ds).sum(axis = 1)) == 2\n",
    "n3_results.sum()/n3_rows"
   ]
  },
  {
   "cell_type": "markdown",
   "id": "5f638062",
   "metadata": {},
   "source": [
    "The odds of passing two data science alum billboards is 6.24%."
   ]
  },
  {
   "cell_type": "markdown",
   "id": "ae610037",
   "metadata": {},
   "source": [
    "### 4. Codeup students buy, on average, 3 poptart packages with a standard deviation of 1.5 a day from the snack vending machine. If on monday the machine is restocked with 17 poptart packages, how likely is it that I will be able to buy some poptarts on Friday afternoon? (Remember, if you have mean and standard deviation, use the np.random.normal)"
   ]
  },
  {
   "cell_type": "code",
   "execution_count": 61,
   "id": "fc49da95",
   "metadata": {},
   "outputs": [
    {
     "data": {
      "text/plain": [
       "0.7217"
      ]
     },
     "execution_count": 61,
     "metadata": {},
     "output_type": "execute_result"
    }
   ],
   "source": [
    "n4_trials = n4_rows = 10**5\n",
    "# columns = 5, for 5 days from Monday to Friday.\n",
    "#Assume they load first thing Monday morning, the draw is the last draw of the week before restock the following Monday, and that it is always stocked to 17.\n",
    "\n",
    "poptarts = np.random.normal(3,1.5,(n4_rows,5))\n",
    "still_tartin = (poptarts.sum(axis=1) < 17).sum()\n",
    "still_tartin/n4_rows\n"
   ]
  },
  {
   "cell_type": "markdown",
   "id": "144381c1",
   "metadata": {},
   "source": [
    "You will be able to pop that tart on 72.2% of Friday afternoons."
   ]
  },
  {
   "cell_type": "markdown",
   "id": "5745f599",
   "metadata": {},
   "source": [
    "### 5. Men have an average height of 178 cm and standard deviation of 8cm. Women have a mean of 170, sd = 6cm. Since you have means and standard deviations, you can use np.random.normal to generate observations.  If a man and woman are chosen at random, what is the likelihood the woman is taller than the man?"
   ]
  },
  {
   "cell_type": "code",
   "execution_count": 77,
   "id": "c95d7309",
   "metadata": {},
   "outputs": [
    {
     "data": {
      "text/plain": [
       "0.21146"
      ]
     },
     "execution_count": 77,
     "metadata": {},
     "output_type": "execute_result"
    }
   ],
   "source": [
    "n5_trials = n5_rows = 10**5\n",
    "\n",
    "tallness = np.random.normal([178,170],[8,6],(n5_rows,2))\n",
    "\n",
    "women_taller = pd.DataFrame(tallness).apply(lambda row: row[0] < row[1], axis = 1).sum()\n",
    "women_taller/n5_rows"
   ]
  },
  {
   "cell_type": "markdown",
   "id": "db29ca19",
   "metadata": {},
   "source": [
    "They are likely taller 21% of the time."
   ]
  },
  {
   "cell_type": "markdown",
   "id": "ad832b1b",
   "metadata": {},
   "source": [
    "### 6. When installing anaconda on a student's computer, there's a 1 in 250 chance that the download is corrupted and the installation fails. "
   ]
  },
  {
   "cell_type": "code",
   "execution_count": 80,
   "id": "839b203f",
   "metadata": {},
   "outputs": [],
   "source": [
    "curruption = 1/250"
   ]
  },
  {
   "cell_type": "markdown",
   "id": "64633e66",
   "metadata": {},
   "source": [
    "#### (6a) What are the odds that after having 50 students download anaconda, no one has an installation issue? 100 students?"
   ]
  },
  {
   "cell_type": "code",
   "execution_count": 98,
   "id": "bb4b4e57",
   "metadata": {},
   "outputs": [
    {
     "data": {
      "text/plain": [
       "0"
      ]
     },
     "execution_count": 98,
     "metadata": {},
     "output_type": "execute_result"
    }
   ],
   "source": [
    "(np.random.random(50) < curruption).sum()"
   ]
  },
  {
   "cell_type": "code",
   "execution_count": 104,
   "id": "7e6e0b1c",
   "metadata": {},
   "outputs": [
    {
     "data": {
      "text/plain": [
       "0"
      ]
     },
     "execution_count": 104,
     "metadata": {},
     "output_type": "execute_result"
    }
   ],
   "source": [
    "(np.random.random(100) < curruption).sum()"
   ]
  },
  {
   "cell_type": "code",
   "execution_count": 105,
   "id": "7da90d73",
   "metadata": {},
   "outputs": [
    {
     "data": {
      "text/plain": [
       "405"
      ]
     },
     "execution_count": 105,
     "metadata": {},
     "output_type": "execute_result"
    }
   ],
   "source": [
    "(np.random.random(100000) < curruption).sum()"
   ]
  },
  {
   "cell_type": "markdown",
   "id": "4327fee0",
   "metadata": {},
   "source": [
    "I ran this many times.  50 students never showed curruption, and every 8 or 10 runs of the 100 would pop a single curruption.  Running it with 100k to get a decent probability came to 405, or 0.4%."
   ]
  },
  {
   "cell_type": "markdown",
   "id": "f6276a05",
   "metadata": {},
   "source": [
    "#### (6b) What is the probability that we observe an installation issue within the first 150 students that download anaconda?"
   ]
  },
  {
   "cell_type": "code",
   "execution_count": 113,
   "id": "0744d90e",
   "metadata": {},
   "outputs": [
    {
     "data": {
      "text/plain": [
       "0.0"
      ]
     },
     "execution_count": 113,
     "metadata": {},
     "output_type": "execute_result"
    }
   ],
   "source": [
    "random_150 = (np.random.random(150) < curruption).sum()"
   ]
  },
  {
   "cell_type": "code",
   "execution_count": 143,
   "id": "2ecc8635",
   "metadata": {},
   "outputs": [
    {
     "data": {
      "text/plain": [
       "0.44883"
      ]
     },
     "execution_count": 143,
     "metadata": {},
     "output_type": "execute_result"
    }
   ],
   "source": [
    "# wasn't satisfied so I simulated the simulation 100k times to see how many produced a curruption:\n",
    "thing = []\n",
    "for i in range(100000):\n",
    "    if ((np.random.random(150) < curruption).sum()) > 0:\n",
    "        thing.append(1)\n",
    "result7b = len(thing)/100000\n",
    "result7b\n"
   ]
  },
  {
   "cell_type": "markdown",
   "id": "df90d6c4",
   "metadata": {},
   "source": [
    "#### (6c) How likely is it that 450 students all download anaconda without an issue?"
   ]
  },
  {
   "cell_type": "code",
   "execution_count": 148,
   "id": "6ecf0dbf",
   "metadata": {},
   "outputs": [
    {
     "data": {
      "text/plain": [
       "0.5511699999999999"
      ]
     },
     "execution_count": 148,
     "metadata": {},
     "output_type": "execute_result"
    }
   ],
   "source": [
    "random_450 = (np.random.random(450) < curruption).sum()\n",
    "random_450\n",
    "\n",
    "thing2 = []\n",
    "for i in range(100000):\n",
    "    if ((np.random.random(450) < curruption).sum()) > 0:\n",
    "        thing2.append(1)\n",
    "1-(len(thing)/100000)"
   ]
  },
  {
   "cell_type": "markdown",
   "id": "1b9dd263",
   "metadata": {},
   "source": [
    "55.1%"
   ]
  },
  {
   "cell_type": "markdown",
   "id": "faa3ffd3",
   "metadata": {},
   "source": [
    "### 7. There's a 70% chance on any given day that there will be at least one food truck at Travis Park. However, you haven't seen a food truck there in 3 days. How unlikely is this?"
   ]
  },
  {
   "cell_type": "code",
   "execution_count": 162,
   "id": "d66c89d5",
   "metadata": {},
   "outputs": [
    {
     "data": {
      "text/plain": [
       "0.02662"
      ]
     },
     "execution_count": 162,
     "metadata": {},
     "output_type": "execute_result"
    }
   ],
   "source": [
    "n7_trials = n7_rows = 10**5\n",
    "n7_days = n7_cols = 3\n",
    "p_foodtruck = .7\n",
    "\n",
    "((np.random.random((n7_rows,n7_cols)) > p_foodtruck).sum(axis=1) == 3).sum()/n7_rows"
   ]
  },
  {
   "cell_type": "markdown",
   "id": "4d85b7cd",
   "metadata": {},
   "source": [
    "2.67% chance it's not there three days in a row.\n",
    "#### (7b) How likely is it that a food truck will show up sometime this week?"
   ]
  },
  {
   "cell_type": "code",
   "execution_count": 164,
   "id": "2a36b1b6",
   "metadata": {},
   "outputs": [
    {
     "data": {
      "text/plain": [
       "0.99625"
      ]
     },
     "execution_count": 164,
     "metadata": {},
     "output_type": "execute_result"
    }
   ],
   "source": [
    "n7_days_b = n7_cols_b = 7\n",
    "\n",
    "((np.random.random((n7_rows,n7_cols_b)) < p_foodtruck).sum(axis=1) > 1).sum()/n7_rows"
   ]
  },
  {
   "cell_type": "markdown",
   "id": "5bc14c7c",
   "metadata": {},
   "source": [
    "99.6% chance it will show up"
   ]
  },
  {
   "cell_type": "markdown",
   "id": "c404abaa",
   "metadata": {},
   "source": [
    "### 8. If 23 people are in the same room, what are the odds that two of them share a birthday? What if it's 20 people? 40?"
   ]
  },
  {
   "cell_type": "code",
   "execution_count": 168,
   "id": "a7293348",
   "metadata": {},
   "outputs": [
    {
     "data": {
      "text/plain": [
       "0.00193"
      ]
     },
     "execution_count": 168,
     "metadata": {},
     "output_type": "execute_result"
    }
   ],
   "source": [
    "n8_rooms = n8_rows = 10**5\n",
    "n8_room = n8_cols = 23\n",
    "p_birthday = 1/365\n",
    "\n",
    "((np.random.random((n8_rows,n8_cols)) < p_birthday).sum(axis = 1) > 1).sum()/n8_rows"
   ]
  },
  {
   "cell_type": "code",
   "execution_count": 169,
   "id": "94a4d6d1",
   "metadata": {},
   "outputs": [
    {
     "data": {
      "text/plain": [
       "0.00184"
      ]
     },
     "execution_count": 169,
     "metadata": {},
     "output_type": "execute_result"
    }
   ],
   "source": [
    "n8_room = 20\n",
    "((np.random.random((n8_rows,n8_cols)) < p_birthday).sum(axis = 1) > 1).sum()/n8_rows"
   ]
  },
  {
   "cell_type": "code",
   "execution_count": 170,
   "id": "48c2ad0b",
   "metadata": {},
   "outputs": [
    {
     "data": {
      "text/plain": [
       "0.00207"
      ]
     },
     "execution_count": 170,
     "metadata": {},
     "output_type": "execute_result"
    }
   ],
   "source": [
    "n8_room = 40\n",
    "((np.random.random((n8_rows,n8_cols)) < p_birthday).sum(axis = 1) > 1).sum()/n8_rows"
   ]
  },
  {
   "cell_type": "markdown",
   "id": "fb9e2def",
   "metadata": {},
   "source": [
    "23 people = 1.93%, 20 people = 1.84%, 40 people = 2.07%"
   ]
  }
 ],
 "metadata": {
  "kernelspec": {
   "display_name": "Python 3 (ipykernel)",
   "language": "python",
   "name": "python3"
  },
  "language_info": {
   "codemirror_mode": {
    "name": "ipython",
    "version": 3
   },
   "file_extension": ".py",
   "mimetype": "text/x-python",
   "name": "python",
   "nbconvert_exporter": "python",
   "pygments_lexer": "ipython3",
   "version": "3.9.7"
  }
 },
 "nbformat": 4,
 "nbformat_minor": 5
}
