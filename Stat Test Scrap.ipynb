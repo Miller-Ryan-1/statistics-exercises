{
 "cells": [
  {
   "cell_type": "code",
   "execution_count": 1,
   "id": "7512c2f2",
   "metadata": {},
   "outputs": [],
   "source": [
    "import numpy as np\n",
    "import seaborn as sns\n",
    "import scipy.stats as stats\n",
    "import pandas as pd\n",
    "import matplotlib.pyplot as plt"
   ]
  },
  {
   "cell_type": "markdown",
   "id": "e6e64721",
   "metadata": {},
   "source": [
    "### Question 1 - Binomial Dist. (618 customers, 10% change, find sf of 70+)"
   ]
  },
  {
   "cell_type": "code",
   "execution_count": 22,
   "id": "3937bac0",
   "metadata": {},
   "outputs": [
    {
     "data": {
      "text/plain": [
       "0.1510752871020976"
      ]
     },
     "execution_count": 22,
     "metadata": {},
     "output_type": "execute_result"
    }
   ],
   "source": [
    "stats.binom(618, .1).sf(69)"
   ]
  },
  {
   "cell_type": "markdown",
   "id": "edbd6187",
   "metadata": {},
   "source": [
    "### Question (last?) - Normal (mean = 40, std = 15, time =50)"
   ]
  },
  {
   "cell_type": "code",
   "execution_count": 6,
   "id": "85676181",
   "metadata": {},
   "outputs": [
    {
     "data": {
      "text/plain": [
       "0.7475074624530771"
      ]
     },
     "execution_count": 6,
     "metadata": {},
     "output_type": "execute_result"
    }
   ],
   "source": [
    "stats.norm(40,15).cdf(50)"
   ]
  }
 ],
 "metadata": {
  "kernelspec": {
   "display_name": "Python 3 (ipykernel)",
   "language": "python",
   "name": "python3"
  },
  "language_info": {
   "codemirror_mode": {
    "name": "ipython",
    "version": 3
   },
   "file_extension": ".py",
   "mimetype": "text/x-python",
   "name": "python",
   "nbconvert_exporter": "python",
   "pygments_lexer": "ipython3",
   "version": "3.9.7"
  }
 },
 "nbformat": 4,
 "nbformat_minor": 5
}
